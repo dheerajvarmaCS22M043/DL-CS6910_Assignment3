{
  "nbformat": 4,
  "nbformat_minor": 0,
  "metadata": {
    "colab": {
      "provenance": [],
      "gpuType": "T4"
    },
    "kernelspec": {
      "name": "python3",
      "display_name": "Python 3"
    },
    "language_info": {
      "name": "python"
    },
    "accelerator": "GPU",
    "gpuClass": "standard",
    "widgets": {
      "application/vnd.jupyter.widget-state+json": {
        "530897d61cb041b4b465ae6f7f0dc6ee": {
          "model_module": "@jupyter-widgets/controls",
          "model_name": "VBoxModel",
          "model_module_version": "1.5.0",
          "state": {
            "_dom_classes": [],
            "_model_module": "@jupyter-widgets/controls",
            "_model_module_version": "1.5.0",
            "_model_name": "VBoxModel",
            "_view_count": null,
            "_view_module": "@jupyter-widgets/controls",
            "_view_module_version": "1.5.0",
            "_view_name": "VBoxView",
            "box_style": "",
            "children": [
              "IPY_MODEL_f93f7a28cdbf47f08ae6a63c3c3e964d",
              "IPY_MODEL_91775e9704bd46099d3ef4549a6c9c4e"
            ],
            "layout": "IPY_MODEL_b700d05547c64a0396e40902cc5c4e92"
          }
        },
        "f93f7a28cdbf47f08ae6a63c3c3e964d": {
          "model_module": "@jupyter-widgets/controls",
          "model_name": "LabelModel",
          "model_module_version": "1.5.0",
          "state": {
            "_dom_classes": [],
            "_model_module": "@jupyter-widgets/controls",
            "_model_module_version": "1.5.0",
            "_model_name": "LabelModel",
            "_view_count": null,
            "_view_module": "@jupyter-widgets/controls",
            "_view_module_version": "1.5.0",
            "_view_name": "LabelView",
            "description": "",
            "description_tooltip": null,
            "layout": "IPY_MODEL_e2459164dac143d9a2a737727e8fdb81",
            "placeholder": "​",
            "style": "IPY_MODEL_8b53741a757645329bfb1ebb410875a6",
            "value": "0.001 MB of 0.012 MB uploaded (0.000 MB deduped)\r"
          }
        },
        "91775e9704bd46099d3ef4549a6c9c4e": {
          "model_module": "@jupyter-widgets/controls",
          "model_name": "FloatProgressModel",
          "model_module_version": "1.5.0",
          "state": {
            "_dom_classes": [],
            "_model_module": "@jupyter-widgets/controls",
            "_model_module_version": "1.5.0",
            "_model_name": "FloatProgressModel",
            "_view_count": null,
            "_view_module": "@jupyter-widgets/controls",
            "_view_module_version": "1.5.0",
            "_view_name": "ProgressView",
            "bar_style": "",
            "description": "",
            "description_tooltip": null,
            "layout": "IPY_MODEL_ade8f99c242743678a06af97a49d2f81",
            "max": 1,
            "min": 0,
            "orientation": "horizontal",
            "style": "IPY_MODEL_6c967ba8116a4be99516ee35fcab8302",
            "value": 0.0957542908762421
          }
        },
        "b700d05547c64a0396e40902cc5c4e92": {
          "model_module": "@jupyter-widgets/base",
          "model_name": "LayoutModel",
          "model_module_version": "1.2.0",
          "state": {
            "_model_module": "@jupyter-widgets/base",
            "_model_module_version": "1.2.0",
            "_model_name": "LayoutModel",
            "_view_count": null,
            "_view_module": "@jupyter-widgets/base",
            "_view_module_version": "1.2.0",
            "_view_name": "LayoutView",
            "align_content": null,
            "align_items": null,
            "align_self": null,
            "border": null,
            "bottom": null,
            "display": null,
            "flex": null,
            "flex_flow": null,
            "grid_area": null,
            "grid_auto_columns": null,
            "grid_auto_flow": null,
            "grid_auto_rows": null,
            "grid_column": null,
            "grid_gap": null,
            "grid_row": null,
            "grid_template_areas": null,
            "grid_template_columns": null,
            "grid_template_rows": null,
            "height": null,
            "justify_content": null,
            "justify_items": null,
            "left": null,
            "margin": null,
            "max_height": null,
            "max_width": null,
            "min_height": null,
            "min_width": null,
            "object_fit": null,
            "object_position": null,
            "order": null,
            "overflow": null,
            "overflow_x": null,
            "overflow_y": null,
            "padding": null,
            "right": null,
            "top": null,
            "visibility": null,
            "width": null
          }
        },
        "e2459164dac143d9a2a737727e8fdb81": {
          "model_module": "@jupyter-widgets/base",
          "model_name": "LayoutModel",
          "model_module_version": "1.2.0",
          "state": {
            "_model_module": "@jupyter-widgets/base",
            "_model_module_version": "1.2.0",
            "_model_name": "LayoutModel",
            "_view_count": null,
            "_view_module": "@jupyter-widgets/base",
            "_view_module_version": "1.2.0",
            "_view_name": "LayoutView",
            "align_content": null,
            "align_items": null,
            "align_self": null,
            "border": null,
            "bottom": null,
            "display": null,
            "flex": null,
            "flex_flow": null,
            "grid_area": null,
            "grid_auto_columns": null,
            "grid_auto_flow": null,
            "grid_auto_rows": null,
            "grid_column": null,
            "grid_gap": null,
            "grid_row": null,
            "grid_template_areas": null,
            "grid_template_columns": null,
            "grid_template_rows": null,
            "height": null,
            "justify_content": null,
            "justify_items": null,
            "left": null,
            "margin": null,
            "max_height": null,
            "max_width": null,
            "min_height": null,
            "min_width": null,
            "object_fit": null,
            "object_position": null,
            "order": null,
            "overflow": null,
            "overflow_x": null,
            "overflow_y": null,
            "padding": null,
            "right": null,
            "top": null,
            "visibility": null,
            "width": null
          }
        },
        "8b53741a757645329bfb1ebb410875a6": {
          "model_module": "@jupyter-widgets/controls",
          "model_name": "DescriptionStyleModel",
          "model_module_version": "1.5.0",
          "state": {
            "_model_module": "@jupyter-widgets/controls",
            "_model_module_version": "1.5.0",
            "_model_name": "DescriptionStyleModel",
            "_view_count": null,
            "_view_module": "@jupyter-widgets/base",
            "_view_module_version": "1.2.0",
            "_view_name": "StyleView",
            "description_width": ""
          }
        },
        "ade8f99c242743678a06af97a49d2f81": {
          "model_module": "@jupyter-widgets/base",
          "model_name": "LayoutModel",
          "model_module_version": "1.2.0",
          "state": {
            "_model_module": "@jupyter-widgets/base",
            "_model_module_version": "1.2.0",
            "_model_name": "LayoutModel",
            "_view_count": null,
            "_view_module": "@jupyter-widgets/base",
            "_view_module_version": "1.2.0",
            "_view_name": "LayoutView",
            "align_content": null,
            "align_items": null,
            "align_self": null,
            "border": null,
            "bottom": null,
            "display": null,
            "flex": null,
            "flex_flow": null,
            "grid_area": null,
            "grid_auto_columns": null,
            "grid_auto_flow": null,
            "grid_auto_rows": null,
            "grid_column": null,
            "grid_gap": null,
            "grid_row": null,
            "grid_template_areas": null,
            "grid_template_columns": null,
            "grid_template_rows": null,
            "height": null,
            "justify_content": null,
            "justify_items": null,
            "left": null,
            "margin": null,
            "max_height": null,
            "max_width": null,
            "min_height": null,
            "min_width": null,
            "object_fit": null,
            "object_position": null,
            "order": null,
            "overflow": null,
            "overflow_x": null,
            "overflow_y": null,
            "padding": null,
            "right": null,
            "top": null,
            "visibility": null,
            "width": null
          }
        },
        "6c967ba8116a4be99516ee35fcab8302": {
          "model_module": "@jupyter-widgets/controls",
          "model_name": "ProgressStyleModel",
          "model_module_version": "1.5.0",
          "state": {
            "_model_module": "@jupyter-widgets/controls",
            "_model_module_version": "1.5.0",
            "_model_name": "ProgressStyleModel",
            "_view_count": null,
            "_view_module": "@jupyter-widgets/base",
            "_view_module_version": "1.2.0",
            "_view_name": "StyleView",
            "bar_color": null,
            "description_width": ""
          }
        },
        "2e3eed8aa1704f76b0a0aed2b0e69a8f": {
          "model_module": "@jupyter-widgets/controls",
          "model_name": "VBoxModel",
          "model_module_version": "1.5.0",
          "state": {
            "_dom_classes": [],
            "_model_module": "@jupyter-widgets/controls",
            "_model_module_version": "1.5.0",
            "_model_name": "VBoxModel",
            "_view_count": null,
            "_view_module": "@jupyter-widgets/controls",
            "_view_module_version": "1.5.0",
            "_view_name": "VBoxView",
            "box_style": "",
            "children": [
              "IPY_MODEL_9b70e2ef0aa2404c8519bd11e51c7823",
              "IPY_MODEL_65aa21bac0e849a8ae5e3a664eb7980f"
            ],
            "layout": "IPY_MODEL_6a1f8b6b42aa4d9ea72653f55a93b515"
          }
        },
        "9b70e2ef0aa2404c8519bd11e51c7823": {
          "model_module": "@jupyter-widgets/controls",
          "model_name": "LabelModel",
          "model_module_version": "1.5.0",
          "state": {
            "_dom_classes": [],
            "_model_module": "@jupyter-widgets/controls",
            "_model_module_version": "1.5.0",
            "_model_name": "LabelModel",
            "_view_count": null,
            "_view_module": "@jupyter-widgets/controls",
            "_view_module_version": "1.5.0",
            "_view_name": "LabelView",
            "description": "",
            "description_tooltip": null,
            "layout": "IPY_MODEL_ef1322a718ca447794a4b184c2c6447e",
            "placeholder": "​",
            "style": "IPY_MODEL_8d46ffda3e5b41aeaa0e487a098a602f",
            "value": "0.004 MB of 0.011 MB uploaded (0.000 MB deduped)\r"
          }
        },
        "65aa21bac0e849a8ae5e3a664eb7980f": {
          "model_module": "@jupyter-widgets/controls",
          "model_name": "FloatProgressModel",
          "model_module_version": "1.5.0",
          "state": {
            "_dom_classes": [],
            "_model_module": "@jupyter-widgets/controls",
            "_model_module_version": "1.5.0",
            "_model_name": "FloatProgressModel",
            "_view_count": null,
            "_view_module": "@jupyter-widgets/controls",
            "_view_module_version": "1.5.0",
            "_view_name": "ProgressView",
            "bar_style": "",
            "description": "",
            "description_tooltip": null,
            "layout": "IPY_MODEL_2aff8a09bf6c4c51ace9c5f7fb6e275a",
            "max": 1,
            "min": 0,
            "orientation": "horizontal",
            "style": "IPY_MODEL_9740a389ac6149e0bfe0f10393f746b7",
            "value": 0.3529510677652598
          }
        },
        "6a1f8b6b42aa4d9ea72653f55a93b515": {
          "model_module": "@jupyter-widgets/base",
          "model_name": "LayoutModel",
          "model_module_version": "1.2.0",
          "state": {
            "_model_module": "@jupyter-widgets/base",
            "_model_module_version": "1.2.0",
            "_model_name": "LayoutModel",
            "_view_count": null,
            "_view_module": "@jupyter-widgets/base",
            "_view_module_version": "1.2.0",
            "_view_name": "LayoutView",
            "align_content": null,
            "align_items": null,
            "align_self": null,
            "border": null,
            "bottom": null,
            "display": null,
            "flex": null,
            "flex_flow": null,
            "grid_area": null,
            "grid_auto_columns": null,
            "grid_auto_flow": null,
            "grid_auto_rows": null,
            "grid_column": null,
            "grid_gap": null,
            "grid_row": null,
            "grid_template_areas": null,
            "grid_template_columns": null,
            "grid_template_rows": null,
            "height": null,
            "justify_content": null,
            "justify_items": null,
            "left": null,
            "margin": null,
            "max_height": null,
            "max_width": null,
            "min_height": null,
            "min_width": null,
            "object_fit": null,
            "object_position": null,
            "order": null,
            "overflow": null,
            "overflow_x": null,
            "overflow_y": null,
            "padding": null,
            "right": null,
            "top": null,
            "visibility": null,
            "width": null
          }
        },
        "ef1322a718ca447794a4b184c2c6447e": {
          "model_module": "@jupyter-widgets/base",
          "model_name": "LayoutModel",
          "model_module_version": "1.2.0",
          "state": {
            "_model_module": "@jupyter-widgets/base",
            "_model_module_version": "1.2.0",
            "_model_name": "LayoutModel",
            "_view_count": null,
            "_view_module": "@jupyter-widgets/base",
            "_view_module_version": "1.2.0",
            "_view_name": "LayoutView",
            "align_content": null,
            "align_items": null,
            "align_self": null,
            "border": null,
            "bottom": null,
            "display": null,
            "flex": null,
            "flex_flow": null,
            "grid_area": null,
            "grid_auto_columns": null,
            "grid_auto_flow": null,
            "grid_auto_rows": null,
            "grid_column": null,
            "grid_gap": null,
            "grid_row": null,
            "grid_template_areas": null,
            "grid_template_columns": null,
            "grid_template_rows": null,
            "height": null,
            "justify_content": null,
            "justify_items": null,
            "left": null,
            "margin": null,
            "max_height": null,
            "max_width": null,
            "min_height": null,
            "min_width": null,
            "object_fit": null,
            "object_position": null,
            "order": null,
            "overflow": null,
            "overflow_x": null,
            "overflow_y": null,
            "padding": null,
            "right": null,
            "top": null,
            "visibility": null,
            "width": null
          }
        },
        "8d46ffda3e5b41aeaa0e487a098a602f": {
          "model_module": "@jupyter-widgets/controls",
          "model_name": "DescriptionStyleModel",
          "model_module_version": "1.5.0",
          "state": {
            "_model_module": "@jupyter-widgets/controls",
            "_model_module_version": "1.5.0",
            "_model_name": "DescriptionStyleModel",
            "_view_count": null,
            "_view_module": "@jupyter-widgets/base",
            "_view_module_version": "1.2.0",
            "_view_name": "StyleView",
            "description_width": ""
          }
        },
        "2aff8a09bf6c4c51ace9c5f7fb6e275a": {
          "model_module": "@jupyter-widgets/base",
          "model_name": "LayoutModel",
          "model_module_version": "1.2.0",
          "state": {
            "_model_module": "@jupyter-widgets/base",
            "_model_module_version": "1.2.0",
            "_model_name": "LayoutModel",
            "_view_count": null,
            "_view_module": "@jupyter-widgets/base",
            "_view_module_version": "1.2.0",
            "_view_name": "LayoutView",
            "align_content": null,
            "align_items": null,
            "align_self": null,
            "border": null,
            "bottom": null,
            "display": null,
            "flex": null,
            "flex_flow": null,
            "grid_area": null,
            "grid_auto_columns": null,
            "grid_auto_flow": null,
            "grid_auto_rows": null,
            "grid_column": null,
            "grid_gap": null,
            "grid_row": null,
            "grid_template_areas": null,
            "grid_template_columns": null,
            "grid_template_rows": null,
            "height": null,
            "justify_content": null,
            "justify_items": null,
            "left": null,
            "margin": null,
            "max_height": null,
            "max_width": null,
            "min_height": null,
            "min_width": null,
            "object_fit": null,
            "object_position": null,
            "order": null,
            "overflow": null,
            "overflow_x": null,
            "overflow_y": null,
            "padding": null,
            "right": null,
            "top": null,
            "visibility": null,
            "width": null
          }
        },
        "9740a389ac6149e0bfe0f10393f746b7": {
          "model_module": "@jupyter-widgets/controls",
          "model_name": "ProgressStyleModel",
          "model_module_version": "1.5.0",
          "state": {
            "_model_module": "@jupyter-widgets/controls",
            "_model_module_version": "1.5.0",
            "_model_name": "ProgressStyleModel",
            "_view_count": null,
            "_view_module": "@jupyter-widgets/base",
            "_view_module_version": "1.2.0",
            "_view_name": "StyleView",
            "bar_color": null,
            "description_width": ""
          }
        },
        "5dd3ccb3c65e49e88b1ce791668e619e": {
          "model_module": "@jupyter-widgets/controls",
          "model_name": "VBoxModel",
          "model_module_version": "1.5.0",
          "state": {
            "_dom_classes": [],
            "_model_module": "@jupyter-widgets/controls",
            "_model_module_version": "1.5.0",
            "_model_name": "VBoxModel",
            "_view_count": null,
            "_view_module": "@jupyter-widgets/controls",
            "_view_module_version": "1.5.0",
            "_view_name": "VBoxView",
            "box_style": "",
            "children": [
              "IPY_MODEL_01fae811ea694e6e9716e692125c67d9",
              "IPY_MODEL_0515b1bd21fb4c68bde60609a76bbb63"
            ],
            "layout": "IPY_MODEL_2ebbdb9f8d1a4fce95cad667566ddcc8"
          }
        },
        "01fae811ea694e6e9716e692125c67d9": {
          "model_module": "@jupyter-widgets/controls",
          "model_name": "LabelModel",
          "model_module_version": "1.5.0",
          "state": {
            "_dom_classes": [],
            "_model_module": "@jupyter-widgets/controls",
            "_model_module_version": "1.5.0",
            "_model_name": "LabelModel",
            "_view_count": null,
            "_view_module": "@jupyter-widgets/controls",
            "_view_module_version": "1.5.0",
            "_view_name": "LabelView",
            "description": "",
            "description_tooltip": null,
            "layout": "IPY_MODEL_4ec2881b9e22491ba9f6f6371b959105",
            "placeholder": "​",
            "style": "IPY_MODEL_71b848cf335d48b2aa60fb0796a397f5",
            "value": "0.001 MB of 0.012 MB uploaded (0.000 MB deduped)\r"
          }
        },
        "0515b1bd21fb4c68bde60609a76bbb63": {
          "model_module": "@jupyter-widgets/controls",
          "model_name": "FloatProgressModel",
          "model_module_version": "1.5.0",
          "state": {
            "_dom_classes": [],
            "_model_module": "@jupyter-widgets/controls",
            "_model_module_version": "1.5.0",
            "_model_name": "FloatProgressModel",
            "_view_count": null,
            "_view_module": "@jupyter-widgets/controls",
            "_view_module_version": "1.5.0",
            "_view_name": "ProgressView",
            "bar_style": "",
            "description": "",
            "description_tooltip": null,
            "layout": "IPY_MODEL_1fb343cad1e142369ee8e8c664ad7332",
            "max": 1,
            "min": 0,
            "orientation": "horizontal",
            "style": "IPY_MODEL_7c3ef55f26104e0f91af260fdc0d772d",
            "value": 0.0961379765637894
          }
        },
        "2ebbdb9f8d1a4fce95cad667566ddcc8": {
          "model_module": "@jupyter-widgets/base",
          "model_name": "LayoutModel",
          "model_module_version": "1.2.0",
          "state": {
            "_model_module": "@jupyter-widgets/base",
            "_model_module_version": "1.2.0",
            "_model_name": "LayoutModel",
            "_view_count": null,
            "_view_module": "@jupyter-widgets/base",
            "_view_module_version": "1.2.0",
            "_view_name": "LayoutView",
            "align_content": null,
            "align_items": null,
            "align_self": null,
            "border": null,
            "bottom": null,
            "display": null,
            "flex": null,
            "flex_flow": null,
            "grid_area": null,
            "grid_auto_columns": null,
            "grid_auto_flow": null,
            "grid_auto_rows": null,
            "grid_column": null,
            "grid_gap": null,
            "grid_row": null,
            "grid_template_areas": null,
            "grid_template_columns": null,
            "grid_template_rows": null,
            "height": null,
            "justify_content": null,
            "justify_items": null,
            "left": null,
            "margin": null,
            "max_height": null,
            "max_width": null,
            "min_height": null,
            "min_width": null,
            "object_fit": null,
            "object_position": null,
            "order": null,
            "overflow": null,
            "overflow_x": null,
            "overflow_y": null,
            "padding": null,
            "right": null,
            "top": null,
            "visibility": null,
            "width": null
          }
        },
        "4ec2881b9e22491ba9f6f6371b959105": {
          "model_module": "@jupyter-widgets/base",
          "model_name": "LayoutModel",
          "model_module_version": "1.2.0",
          "state": {
            "_model_module": "@jupyter-widgets/base",
            "_model_module_version": "1.2.0",
            "_model_name": "LayoutModel",
            "_view_count": null,
            "_view_module": "@jupyter-widgets/base",
            "_view_module_version": "1.2.0",
            "_view_name": "LayoutView",
            "align_content": null,
            "align_items": null,
            "align_self": null,
            "border": null,
            "bottom": null,
            "display": null,
            "flex": null,
            "flex_flow": null,
            "grid_area": null,
            "grid_auto_columns": null,
            "grid_auto_flow": null,
            "grid_auto_rows": null,
            "grid_column": null,
            "grid_gap": null,
            "grid_row": null,
            "grid_template_areas": null,
            "grid_template_columns": null,
            "grid_template_rows": null,
            "height": null,
            "justify_content": null,
            "justify_items": null,
            "left": null,
            "margin": null,
            "max_height": null,
            "max_width": null,
            "min_height": null,
            "min_width": null,
            "object_fit": null,
            "object_position": null,
            "order": null,
            "overflow": null,
            "overflow_x": null,
            "overflow_y": null,
            "padding": null,
            "right": null,
            "top": null,
            "visibility": null,
            "width": null
          }
        },
        "71b848cf335d48b2aa60fb0796a397f5": {
          "model_module": "@jupyter-widgets/controls",
          "model_name": "DescriptionStyleModel",
          "model_module_version": "1.5.0",
          "state": {
            "_model_module": "@jupyter-widgets/controls",
            "_model_module_version": "1.5.0",
            "_model_name": "DescriptionStyleModel",
            "_view_count": null,
            "_view_module": "@jupyter-widgets/base",
            "_view_module_version": "1.2.0",
            "_view_name": "StyleView",
            "description_width": ""
          }
        },
        "1fb343cad1e142369ee8e8c664ad7332": {
          "model_module": "@jupyter-widgets/base",
          "model_name": "LayoutModel",
          "model_module_version": "1.2.0",
          "state": {
            "_model_module": "@jupyter-widgets/base",
            "_model_module_version": "1.2.0",
            "_model_name": "LayoutModel",
            "_view_count": null,
            "_view_module": "@jupyter-widgets/base",
            "_view_module_version": "1.2.0",
            "_view_name": "LayoutView",
            "align_content": null,
            "align_items": null,
            "align_self": null,
            "border": null,
            "bottom": null,
            "display": null,
            "flex": null,
            "flex_flow": null,
            "grid_area": null,
            "grid_auto_columns": null,
            "grid_auto_flow": null,
            "grid_auto_rows": null,
            "grid_column": null,
            "grid_gap": null,
            "grid_row": null,
            "grid_template_areas": null,
            "grid_template_columns": null,
            "grid_template_rows": null,
            "height": null,
            "justify_content": null,
            "justify_items": null,
            "left": null,
            "margin": null,
            "max_height": null,
            "max_width": null,
            "min_height": null,
            "min_width": null,
            "object_fit": null,
            "object_position": null,
            "order": null,
            "overflow": null,
            "overflow_x": null,
            "overflow_y": null,
            "padding": null,
            "right": null,
            "top": null,
            "visibility": null,
            "width": null
          }
        },
        "7c3ef55f26104e0f91af260fdc0d772d": {
          "model_module": "@jupyter-widgets/controls",
          "model_name": "ProgressStyleModel",
          "model_module_version": "1.5.0",
          "state": {
            "_model_module": "@jupyter-widgets/controls",
            "_model_module_version": "1.5.0",
            "_model_name": "ProgressStyleModel",
            "_view_count": null,
            "_view_module": "@jupyter-widgets/base",
            "_view_module_version": "1.2.0",
            "_view_name": "StyleView",
            "bar_color": null,
            "description_width": ""
          }
        }
      }
    }
  },
  "cells": [
    {
      "cell_type": "code",
      "execution_count": 1,
      "metadata": {
        "colab": {
          "base_uri": "https://localhost:8080/"
        },
        "id": "5qpUkMirm9jJ",
        "outputId": "5fc00487-9320-4297-c79f-2792ae5f6abd"
      },
      "outputs": [
        {
          "output_type": "stream",
          "name": "stdout",
          "text": [
            "cuda\n"
          ]
        }
      ],
      "source": [
        "import torch\n",
        "import torch.nn as nn\n",
        "import torch.optim as optim\n",
        "from torch.autograd import Variable\n",
        "import torch.nn.functional as F\n",
        "import numpy as np\n",
        "import pandas as pd\n",
        "\n",
        "import math\n",
        "import matplotlib.pyplot as plt\n",
        "from sklearn.model_selection import train_test_split\n",
        "\n",
        "import seaborn as sns\n",
        "from IPython.display import clear_output\n",
        "\n",
        "import random\n",
        "\n",
        "\n",
        "# from __future__ import unicode_literals, print_function, division\n",
        "from io import open\n",
        "import unicodedata\n",
        "import string\n",
        "import re\n",
        "\n",
        "# from torch import optim\n",
        "# import torch.nn.functional as F\n",
        "\n",
        "device = torch.device(\"cuda\" if torch.cuda.is_available() else \"cpu\")\n",
        "print(device)"
      ]
    },
    {
      "cell_type": "code",
      "source": [
        "import warnings\n",
        "warnings.filterwarnings(\"ignore\", category=np.VisibleDeprecationWarning)"
      ],
      "metadata": {
        "id": "KhZncvS8nrma"
      },
      "execution_count": 2,
      "outputs": []
    },
    {
      "cell_type": "code",
      "source": [
        "pip install wandb"
      ],
      "metadata": {
        "colab": {
          "base_uri": "https://localhost:8080/"
        },
        "id": "q2Krz5mvn6wz",
        "outputId": "8ef67628-3298-4b23-c2ef-91149fd51676"
      },
      "execution_count": 3,
      "outputs": [
        {
          "output_type": "stream",
          "name": "stdout",
          "text": [
            "Looking in indexes: https://pypi.org/simple, https://us-python.pkg.dev/colab-wheels/public/simple/\n",
            "Collecting wandb\n",
            "  Downloading wandb-0.15.3-py3-none-any.whl (2.0 MB)\n",
            "\u001b[2K     \u001b[90m━━━━━━━━━━━━━━━━━━━━━━━━━━━━━━━━━━━━━━━━\u001b[0m \u001b[32m2.0/2.0 MB\u001b[0m \u001b[31m35.2 MB/s\u001b[0m eta \u001b[36m0:00:00\u001b[0m\n",
            "\u001b[?25hRequirement already satisfied: Click!=8.0.0,>=7.0 in /usr/local/lib/python3.10/dist-packages (from wandb) (8.1.3)\n",
            "Collecting GitPython!=3.1.29,>=1.0.0 (from wandb)\n",
            "  Downloading GitPython-3.1.31-py3-none-any.whl (184 kB)\n",
            "\u001b[2K     \u001b[90m━━━━━━━━━━━━━━━━━━━━━━━━━━━━━━━━━━━━━━\u001b[0m \u001b[32m184.3/184.3 kB\u001b[0m \u001b[31m23.4 MB/s\u001b[0m eta \u001b[36m0:00:00\u001b[0m\n",
            "\u001b[?25hRequirement already satisfied: requests<3,>=2.0.0 in /usr/local/lib/python3.10/dist-packages (from wandb) (2.27.1)\n",
            "Requirement already satisfied: psutil>=5.0.0 in /usr/local/lib/python3.10/dist-packages (from wandb) (5.9.5)\n",
            "Collecting sentry-sdk>=1.0.0 (from wandb)\n",
            "  Downloading sentry_sdk-1.23.1-py2.py3-none-any.whl (205 kB)\n",
            "\u001b[2K     \u001b[90m━━━━━━━━━━━━━━━━━━━━━━━━━━━━━━━━━━━━━━\u001b[0m \u001b[32m205.1/205.1 kB\u001b[0m \u001b[31m27.1 MB/s\u001b[0m eta \u001b[36m0:00:00\u001b[0m\n",
            "\u001b[?25hCollecting docker-pycreds>=0.4.0 (from wandb)\n",
            "  Downloading docker_pycreds-0.4.0-py2.py3-none-any.whl (9.0 kB)\n",
            "Requirement already satisfied: PyYAML in /usr/local/lib/python3.10/dist-packages (from wandb) (6.0)\n",
            "Collecting pathtools (from wandb)\n",
            "  Downloading pathtools-0.1.2.tar.gz (11 kB)\n",
            "  Preparing metadata (setup.py) ... \u001b[?25l\u001b[?25hdone\n",
            "Collecting setproctitle (from wandb)\n",
            "  Downloading setproctitle-1.3.2-cp310-cp310-manylinux_2_5_x86_64.manylinux1_x86_64.manylinux_2_17_x86_64.manylinux2014_x86_64.whl (30 kB)\n",
            "Requirement already satisfied: setuptools in /usr/local/lib/python3.10/dist-packages (from wandb) (67.7.2)\n",
            "Requirement already satisfied: appdirs>=1.4.3 in /usr/local/lib/python3.10/dist-packages (from wandb) (1.4.4)\n",
            "Requirement already satisfied: protobuf!=4.21.0,<5,>=3.19.0 in /usr/local/lib/python3.10/dist-packages (from wandb) (3.20.3)\n",
            "Requirement already satisfied: six>=1.4.0 in /usr/local/lib/python3.10/dist-packages (from docker-pycreds>=0.4.0->wandb) (1.16.0)\n",
            "Collecting gitdb<5,>=4.0.1 (from GitPython!=3.1.29,>=1.0.0->wandb)\n",
            "  Downloading gitdb-4.0.10-py3-none-any.whl (62 kB)\n",
            "\u001b[2K     \u001b[90m━━━━━━━━━━━━━━━━━━━━━━━━━━━━━━━━━━━━━━━━\u001b[0m \u001b[32m62.7/62.7 kB\u001b[0m \u001b[31m8.0 MB/s\u001b[0m eta \u001b[36m0:00:00\u001b[0m\n",
            "\u001b[?25hRequirement already satisfied: urllib3<1.27,>=1.21.1 in /usr/local/lib/python3.10/dist-packages (from requests<3,>=2.0.0->wandb) (1.26.15)\n",
            "Requirement already satisfied: certifi>=2017.4.17 in /usr/local/lib/python3.10/dist-packages (from requests<3,>=2.0.0->wandb) (2022.12.7)\n",
            "Requirement already satisfied: charset-normalizer~=2.0.0 in /usr/local/lib/python3.10/dist-packages (from requests<3,>=2.0.0->wandb) (2.0.12)\n",
            "Requirement already satisfied: idna<4,>=2.5 in /usr/local/lib/python3.10/dist-packages (from requests<3,>=2.0.0->wandb) (3.4)\n",
            "Collecting smmap<6,>=3.0.1 (from gitdb<5,>=4.0.1->GitPython!=3.1.29,>=1.0.0->wandb)\n",
            "  Downloading smmap-5.0.0-py3-none-any.whl (24 kB)\n",
            "Building wheels for collected packages: pathtools\n",
            "  Building wheel for pathtools (setup.py) ... \u001b[?25l\u001b[?25hdone\n",
            "  Created wheel for pathtools: filename=pathtools-0.1.2-py3-none-any.whl size=8791 sha256=28910d71e6a363d268bde8375432e70f29f116912ad16a2d7b45264112eaa9f7\n",
            "  Stored in directory: /root/.cache/pip/wheels/e7/f3/22/152153d6eb222ee7a56ff8617d80ee5207207a8c00a7aab794\n",
            "Successfully built pathtools\n",
            "Installing collected packages: pathtools, smmap, setproctitle, sentry-sdk, docker-pycreds, gitdb, GitPython, wandb\n",
            "Successfully installed GitPython-3.1.31 docker-pycreds-0.4.0 gitdb-4.0.10 pathtools-0.1.2 sentry-sdk-1.23.1 setproctitle-1.3.2 smmap-5.0.0 wandb-0.15.3\n"
          ]
        }
      ]
    },
    {
      "cell_type": "code",
      "source": [
        "import wandb"
      ],
      "metadata": {
        "id": "jNn2Kmjcn-sA"
      },
      "execution_count": 4,
      "outputs": []
    },
    {
      "cell_type": "code",
      "source": [
        "wandb.login(key='6264e29f109d3cf02a9911cd18b6725b79c489cd')"
      ],
      "metadata": {
        "colab": {
          "base_uri": "https://localhost:8080/"
        },
        "id": "8TA00BrOoFHB",
        "outputId": "e1f18527-b05b-4594-d220-db6942f7486c"
      },
      "execution_count": 5,
      "outputs": [
        {
          "output_type": "stream",
          "name": "stderr",
          "text": [
            "\u001b[34m\u001b[1mwandb\u001b[0m: W&B API key is configured. Use \u001b[1m`wandb login --relogin`\u001b[0m to force relogin\n",
            "\u001b[34m\u001b[1mwandb\u001b[0m: \u001b[33mWARNING\u001b[0m If you're specifying your api key in code, ensure this code is not shared publicly.\n",
            "\u001b[34m\u001b[1mwandb\u001b[0m: \u001b[33mWARNING\u001b[0m Consider setting the WANDB_API_KEY environment variable, or running `wandb login` from the command line.\n",
            "\u001b[34m\u001b[1mwandb\u001b[0m: Appending key for api.wandb.ai to your netrc file: /root/.netrc\n"
          ]
        },
        {
          "output_type": "execute_result",
          "data": {
            "text/plain": [
              "True"
            ]
          },
          "metadata": {},
          "execution_count": 5
        }
      ]
    },
    {
      "cell_type": "code",
      "source": [
        "!pip install gdown\n",
        "import gdown \n",
        "# !conda install -y gdown\n",
        "import zipfile\n",
        "url = 'https://drive.google.com/u/0/uc?id=1uRKU4as2NlS9i8sdLRS1e326vQRdhvfw&export=download'  \n",
        "gdown.download(url)\n",
        "z= zipfile.ZipFile('aksharantar_sampled.zip')\n",
        "z.extractall()"
      ],
      "metadata": {
        "colab": {
          "base_uri": "https://localhost:8080/"
        },
        "id": "in1tm8J5oHrY",
        "outputId": "db2cf33f-cda6-4e6d-9a16-33a8252a0c9e"
      },
      "execution_count": 6,
      "outputs": [
        {
          "output_type": "stream",
          "name": "stdout",
          "text": [
            "Looking in indexes: https://pypi.org/simple, https://us-python.pkg.dev/colab-wheels/public/simple/\n",
            "Requirement already satisfied: gdown in /usr/local/lib/python3.10/dist-packages (4.6.6)\n",
            "Requirement already satisfied: filelock in /usr/local/lib/python3.10/dist-packages (from gdown) (3.12.0)\n",
            "Requirement already satisfied: requests[socks] in /usr/local/lib/python3.10/dist-packages (from gdown) (2.27.1)\n",
            "Requirement already satisfied: six in /usr/local/lib/python3.10/dist-packages (from gdown) (1.16.0)\n",
            "Requirement already satisfied: tqdm in /usr/local/lib/python3.10/dist-packages (from gdown) (4.65.0)\n",
            "Requirement already satisfied: beautifulsoup4 in /usr/local/lib/python3.10/dist-packages (from gdown) (4.11.2)\n",
            "Requirement already satisfied: soupsieve>1.2 in /usr/local/lib/python3.10/dist-packages (from beautifulsoup4->gdown) (2.4.1)\n",
            "Requirement already satisfied: urllib3<1.27,>=1.21.1 in /usr/local/lib/python3.10/dist-packages (from requests[socks]->gdown) (1.26.15)\n",
            "Requirement already satisfied: certifi>=2017.4.17 in /usr/local/lib/python3.10/dist-packages (from requests[socks]->gdown) (2022.12.7)\n",
            "Requirement already satisfied: charset-normalizer~=2.0.0 in /usr/local/lib/python3.10/dist-packages (from requests[socks]->gdown) (2.0.12)\n",
            "Requirement already satisfied: idna<4,>=2.5 in /usr/local/lib/python3.10/dist-packages (from requests[socks]->gdown) (3.4)\n",
            "Requirement already satisfied: PySocks!=1.5.7,>=1.5.6 in /usr/local/lib/python3.10/dist-packages (from requests[socks]->gdown) (1.7.1)\n"
          ]
        },
        {
          "output_type": "stream",
          "name": "stderr",
          "text": [
            "Downloading...\n",
            "From: https://drive.google.com/u/0/uc?id=1uRKU4as2NlS9i8sdLRS1e326vQRdhvfw&export=download\n",
            "To: /content/aksharantar_sampled.zip\n",
            "100%|██████████| 14.0M/14.0M [00:00<00:00, 231MB/s]\n"
          ]
        }
      ]
    },
    {
      "cell_type": "code",
      "source": [
        "df = pd.read_csv(\"aksharantar_sampled/tel/tel_train.csv\" , header = None)\n",
        "# df.head()\n",
        "df_val = pd.read_csv(\"aksharantar_sampled/tel/tel_valid.csv\" , header = None)\n",
        "df_test = pd.read_csv(\"aksharantar_sampled/tel/tel_test.csv\" , header = None)\n",
        "x1 = 0\n",
        "english_words_val = df_val[x1]\n",
        "english_words_test = df_test[x1]\n",
        "english_words = df[x1]\n",
        "telugu_words_val = df_val[x1+1]\n",
        "telugu_words_test = df_test[x1+1]\n",
        "telugu_words = df[x1+1]\n",
        "#print(df[50000:])"
      ],
      "metadata": {
        "id": "DwuWW-3KoSWE"
      },
      "execution_count": 7,
      "outputs": []
    },
    {
      "cell_type": "code",
      "source": [
        "def findCharList(eng_words,tel_words):\n",
        "  english_char_list = []\n",
        "  max_length_word_english = -1\n",
        "  telugu_char_list = []\n",
        "  max_length_word_telugu = -1\n",
        "  for word in eng_words:\n",
        "    x2 = len(word)\n",
        "    x3 = max(max_length_word_english,x2)\n",
        "    max_length_word_english = x3\n",
        "    for char in word :\n",
        "      c = char\n",
        "      english_char_list.append(c);\n",
        "  english_char_list = set(english_char_list)\n",
        "  english_char_list = list(english_char_list)\n",
        "  for word in tel_words:\n",
        "    x4 = len(word)\n",
        "    x5 = max(max_length_word_telugu,x4)\n",
        "    max_length_word_telugu = x5\n",
        "    for char in word :\n",
        "      c1 =char\n",
        "      telugu_char_list.append(c1);\n",
        "  telugu_char_list = set(telugu_char_list)\n",
        "  telugu_char_list = list(telugu_char_list)\n",
        "  english_char_list.sort()\n",
        "  telugu_char_list.sort()\n",
        "  # print(len(telugu_char_list))\n",
        "  #print(telugu_char_list)\n",
        "  print(len(telugu_char_list))\n",
        "  return english_char_list,telugu_char_list,max_length_word_english,max_length_word_telugu"
      ],
      "metadata": {
        "id": "8_f60NhfocGR"
      },
      "execution_count": 8,
      "outputs": []
    },
    {
      "cell_type": "code",
      "source": [
        "english_char_list,telugu_char_list,max_length_word_english,max_length_word_telugu=findCharList(english_words,telugu_words)\n",
        "print(english_char_list)\n",
        "print(telugu_char_list)\n",
        "print(max_length_word_telugu)\n",
        "print(max_length_word_english)"
      ],
      "metadata": {
        "colab": {
          "base_uri": "https://localhost:8080/"
        },
        "id": "kEMa6vOCog2d",
        "outputId": "3c8f53d6-9c0b-41bc-df3f-79887b70189d"
      },
      "execution_count": 9,
      "outputs": [
        {
          "output_type": "stream",
          "name": "stdout",
          "text": [
            "62\n",
            "['a', 'b', 'c', 'd', 'e', 'f', 'g', 'h', 'i', 'j', 'k', 'l', 'm', 'n', 'o', 'p', 'q', 'r', 's', 't', 'u', 'v', 'w', 'x', 'y', 'z']\n",
            "['ం', 'ః', 'అ', 'ఆ', 'ఇ', 'ఈ', 'ఉ', 'ఊ', 'ఋ', 'ఎ', 'ఏ', 'ఐ', 'ఒ', 'ఓ', 'ఔ', 'క', 'ఖ', 'గ', 'ఘ', 'చ', 'ఛ', 'జ', 'ఝ', 'ఞ', 'ట', 'ఠ', 'డ', 'ఢ', 'ణ', 'త', 'థ', 'ద', 'ధ', 'న', 'ప', 'ఫ', 'బ', 'భ', 'మ', 'య', 'ర', 'ఱ', 'ల', 'ళ', 'వ', 'శ', 'ష', 'స', 'హ', 'ా', 'ి', 'ీ', 'ు', 'ూ', 'ృ', 'ె', 'ే', 'ై', 'ొ', 'ో', 'ౌ', '్']\n",
            "21\n",
            "28\n"
          ]
        }
      ]
    },
    {
      "cell_type": "code",
      "source": [
        "# for one word.\n",
        "def english_word2vec(word):\n",
        "  vec = []\n",
        "  x6 = len(english_char_list)+1\n",
        "  vec.append(x6)\n",
        "  for char in word:\n",
        "    c = char\n",
        "    x7 = len(english_char_list)\n",
        "    for i in range(x7):\n",
        "      x8 = english_char_list[i]\n",
        "      if(x8 == c):\n",
        "        vec.append(i+1)\n",
        "  x9 = max_length_word_english + 1\n",
        "  while(len(vec) < x9): \n",
        "      x10 = 0\n",
        "      vec.append(x10)\n",
        "  x11 = 0\n",
        "  vec.append(x11)\n",
        "  return (vec)"
      ],
      "metadata": {
        "id": "hbuatC73om0M"
      },
      "execution_count": 10,
      "outputs": []
    },
    {
      "cell_type": "code",
      "source": [
        "def telugu_word2vec(word):\n",
        "  vec = []\n",
        "  x6 = len(telugu_char_list)+1\n",
        "  vec.append(x6)\n",
        "  for char in word:\n",
        "    c = char\n",
        "    x7 = len(telugu_char_list)\n",
        "    for i in range(x7):\n",
        "      x8 = telugu_char_list[i]\n",
        "      if(x8 == c):\n",
        "        vec.append(i+1)\n",
        "  x9 = max_length_word_telugu + 1\n",
        "  while(len(vec) < x9):  \n",
        "      x10 = 0\n",
        "      vec.append(x10)\n",
        "  x11 = 0\n",
        "  vec.append(x11)\n",
        "  return(vec)"
      ],
      "metadata": {
        "id": "BWM-V97xosrY"
      },
      "execution_count": 11,
      "outputs": []
    },
    {
      "cell_type": "code",
      "source": [
        "pred = []\n",
        "gt=[]\n",
        "inp = []"
      ],
      "metadata": {
        "id": "MCqYVQAHm-39"
      },
      "execution_count": 12,
      "outputs": []
    },
    {
      "cell_type": "code",
      "source": [
        "# creating matrix of representation for whole words of english and telugu.\n",
        "\n",
        "def ip_matrix_construct(words, lang):\n",
        "  ans = []\n",
        "  if(lang == \"english\"):\n",
        "    for word in words:\n",
        "      ans.append(english_word2vec(word))\n",
        "  else:\n",
        "    for word in words:\n",
        "      ans.append(telugu_word2vec(word))\n",
        "  return(ans)"
      ],
      "metadata": {
        "id": "t0ATgqhrovgD"
      },
      "execution_count": 13,
      "outputs": []
    },
    {
      "cell_type": "code",
      "source": [
        "def matrixRep(english_words,telugu_words,english_words_val,telugu_words_val,english_words_test,telugu_words_test):\n",
        "  # calculated representations of whole english and marathi words in variables english and marathi matrix.\n",
        "  eng = \"english\"\n",
        "  english_matrix = ip_matrix_construct(english_words, eng)\n",
        "  \n",
        "  english_matrix_val = ip_matrix_construct(english_words_val, eng)\n",
        "  english_matrix_test = ip_matrix_construct(english_words_test, eng)\n",
        "  english_matrix = torch.tensor(english_matrix)\n",
        "  english_matrix_val = torch.tensor(english_matrix_val)\n",
        "  english_matrix_test = torch.tensor(english_matrix_test)\n",
        "  \n",
        "  tel = \"telugu\"\n",
        "  telugu_matrix = ip_matrix_construct(telugu_words, tel)\n",
        " \n",
        "  telugu_matrix_val = ip_matrix_construct(telugu_words_val, tel)\n",
        "  telugu_matrix_test =ip_matrix_construct(telugu_words_test, tel)\n",
        "\n",
        "  telugu_matrix = torch.tensor(telugu_matrix) \n",
        "  telugu_matrix_val = torch.tensor(telugu_matrix_val)\n",
        "  telugu_matrix_test = torch.tensor(telugu_matrix_test)\n",
        "  \n",
        "  return english_matrix,telugu_matrix,english_matrix_val,telugu_matrix_val,english_matrix_test,telugu_matrix_test"
      ],
      "metadata": {
        "id": "3IM4LC0eoypv"
      },
      "execution_count": 14,
      "outputs": []
    },
    {
      "cell_type": "code",
      "source": [
        "english_matrix,telugu_matrix,english_matrix_val,telugu_matrix_val,english_matrix_test,telugu_matrix_test = matrixRep(english_words,telugu_words,english_words_val,telugu_words_val,english_words_test,telugu_words_test)"
      ],
      "metadata": {
        "id": "dyLEw22cse0o"
      },
      "execution_count": 15,
      "outputs": []
    },
    {
      "cell_type": "code",
      "source": [
        "class Encoder(nn.Module):\n",
        "  def __init__(self,input_size, embedding_size, hidden_size, num_layers, dropout, cell_type, bidirectional,s=0.1):\n",
        "    super(Encoder,self).__init__()\n",
        "    ct = cell_type\n",
        "    self.cell_type = ct\n",
        "    dp = dropout\n",
        "    self.dropout = nn.Dropout(dp)\n",
        "    bd = bidirectional\n",
        "    self.bidirectional = bd\n",
        "    hs = hidden_size\n",
        "    self.hidden_size = hs\n",
        "    iS = input_size \n",
        "    self.embedding = nn.Embedding(iS, embedding_size)\n",
        "    nl = num_layers\n",
        "    self.num_layers = nl\n",
        "    s1 = s\n",
        "    self.s = s1\n",
        "    if(ct == \"LSTM\"):\n",
        "      self.lstm = nn.LSTM(embedding_size, hidden_size, num_layers, dropout = dropout, bidirectional = bidirectional)\n",
        "    elif(cell_type == \"RNN\"):\n",
        "      self.rnn = nn.RNN(embedding_size, hidden_size, num_layers, dropout = dropout, bidirectional = bidirectional)\n",
        "    elif(ct == \"GRU\"):\n",
        "      s1 = s1*2\n",
        "      self.gru = nn.GRU(embedding_size, hidden_size, num_layers, dropout = dropout, bidirectional = bidirectional)\n",
        "\n",
        "  def forward(self, x):\n",
        "    k = x\n",
        "    embedding = self.dropout(self.embedding(k))\n",
        "    ct1 = self.cell_type\n",
        "    if(ct1 == \"LSTM\"):\n",
        "      outputs, (hidden,cell) = self.lstm(embedding)\n",
        "      return outputs,(hidden, cell)\n",
        "    elif(ct1 == \"GRU\"):\n",
        "      output, hidden = self.gru(embedding)\n",
        "      return output, hidden\n",
        "    elif(ct1 == \"RNN\"):\n",
        "      output, hidden = self.rnn(embedding)\n",
        "      return output, hidden\n",
        "\n",
        "  def initHidden(self):\n",
        "    return torch.zeros(1, 1, self.hidden_size, device=device)"
      ],
      "metadata": {
        "id": "t9AqUBFbsmi_"
      },
      "execution_count": 16,
      "outputs": []
    },
    {
      "cell_type": "code",
      "source": [
        "#Attention Decoder\n",
        "class Decoder(nn.Module):\n",
        "  def __init__(self, input_size, embedding_size, hidden_size, output_size, num_layers, dropout, cell_type,bidirectional,s=0.1):\n",
        "    super(Decoder, self).__init__()\n",
        "    self.cell_type = cell_type\n",
        "    hs = hidden_size\n",
        "    self.hidden_size = hs\n",
        "    dp = dropout\n",
        "    self.dropout = nn.Dropout(dp)\n",
        "    iS = input_size\n",
        "    self.bidirectional=bidirectional\n",
        "    self.embedding = nn.Embedding(iS, embedding_size)\n",
        "    self.s = s\n",
        "    nl = num_layers\n",
        "    self.num_layers = nl\n",
        "    if(cell_type == \"GRU\"):\n",
        "      self.gru = nn.GRU(hs, hs, nl, dropout = dropout)\n",
        "    if(cell_type == \"RNN\"):\n",
        "      self.rnn = nn.RNN(hs, hs, nl, dropout = dropout)\n",
        "    if(cell_type == \"LSTM\"):\n",
        "      self.lstm = nn.LSTM(hs, hs, nl, dropout = dropout)\n",
        "    max_len_word=max_length_word_english+2\n",
        "    self.attn=nn.Linear(hidden_size +embedding_size, max_len_word)\n",
        "    \n",
        "    if (bidirectional==True):\n",
        "        self.attn_combine = nn.Linear(hs*2+embedding_size, hs)\n",
        "    else:\n",
        "        self.attn_combine = nn.Linear(hs +embedding_size, hs)\n",
        "        \n",
        "    self.fc = nn.Linear(hs, output_size)  \n",
        "  \n",
        "  def forward(self, x, hidden, cell = 0,enco_out = None):\n",
        "    \n",
        "    x = x.unsqueeze(0).int()\n",
        "\n",
        "    embedding = self.dropout(self.embedding(x))\n",
        "    emb=embedding[0]\n",
        "    hid=hidden[0]\n",
        "    atten_weights = F.softmax(self.attn(torch.cat((emb, hid), 1)), dim=1)\n",
        "    atten_applied = torch.bmm(atten_weights.unsqueeze(1),enco_out.permute(1,0,2)).squeeze(1)\n",
        "    att=atten_applied\n",
        "    output = torch.cat((embedding[0], att), 1)\n",
        "\n",
        "    output = F.relu(self.attn_combine(output).unsqueeze(0))\n",
        "    ct=self.cell_type\n",
        "    if(ct == \"LSTM\"):\n",
        "        outputs, (hidden, cell) = self.lstm(output, (hidden, cell))\n",
        "    elif(ct == \"RNN\"):\n",
        "        outputs, hidden = self.rnn(output, hidden)\n",
        "    elif(ct == \"GRU\"):\n",
        "        outputs, hidden = self.gru(output, hidden)  \n",
        "    \n",
        "    predictions = self.fc(outputs)\n",
        "    \n",
        "    predictions = predictions.squeeze(0)\n",
        "    if(ct == \"LSTM\"):\n",
        "        return predictions, hidden, cell\n",
        "    else:\n",
        "        return predictions, hidden\n",
        "\n",
        "\n",
        "  def initHidden(self):\n",
        "    return torch.zeros(1, 1, self.hidden_size, device=device)"
      ],
      "metadata": {
        "id": "uDW3qWX5sta-"
      },
      "execution_count": 18,
      "outputs": []
    },
    {
      "cell_type": "code",
      "source": [
        "class Seq2Seq(nn.Module):\n",
        "    def __init__(self, encoder, decoder, cell_type, bidirectional, num_layers,s=0.1):\n",
        "        super(Seq2Seq, self).__init__()\n",
        "\n",
        "        self.encoder = encoder\n",
        "        self.decoder = decoder\n",
        "        nl = num_layers\n",
        "        self.num_layers = nl\n",
        "        bd = bidirectional\n",
        "        self.bidirectional = bd\n",
        "        ct = cell_type\n",
        "        self.s = s\n",
        "        self.cell_type = ct\n",
        "        \n",
        "\n",
        "    def forward(self, source, target, teacher_force_ratio=0.5,p=0.1):\n",
        "        t2 = target.shape[0]\n",
        "        target_len = t2\n",
        "        s2 = source.shape[1]\n",
        "        batch_size = s2\n",
        "        tcl = len(telugu_char_list)\n",
        "        target_vocab_size = tcl + 2  # intitially = 66 || Now 63 + 1(start token) + 1 = 65\n",
        "        tvs = target_vocab_size\n",
        "        outputs = torch.zeros(t2, s2, tvs).to(device)\n",
        "        ct3 = self.cell_type\n",
        "        if(ct3 == \"GRU\"):\n",
        "            enco_output, hidden = self.encoder(source)\n",
        "        elif(ct3 == \"RNN\"):\n",
        "            enco_output, hidden = self.encoder(source)\n",
        "        else:\n",
        "            enco_output,(hidden, cell) = self.encoder(source)\n",
        "        bd3 = self.bidirectional \n",
        "        sl3 = self.num_layers\n",
        "        if(bd3 == True):\n",
        "            hidden = hidden[sl3 - 1] + hidden[sl3 - 1]\n",
        "            hidden = hidden.repeat(sl3,1,1)\n",
        "            if(self.cell_type == \"LSTM\"):\n",
        "                cell = cell[sl3 - 1] + cell[sl3 - 1]\n",
        "                cell = cell.repeat(sl3,1,1)\n",
        "                \n",
        "        x = target[0]\n",
        "        s5=0.2\n",
        "        for t in range(t2-1):\n",
        "            if(ct3 == \"LSTM\"):\n",
        "                output, hidden, cell = self.decoder(x, hidden, cell,enco_output)\n",
        "                s5=s5*2\n",
        "            else :\n",
        "                output, hidden = self.decoder(x, hidden,cell=0,enco_out=enco_output)\n",
        "                s5=s5+2\n",
        "\n",
        "            outputs[t+1] = output\n",
        "            best_guess = output.argmax(1)\n",
        "\n",
        "            x = target[t+1] if random.random() < teacher_force_ratio else best_guess\n",
        "\n",
        "        return outputs\n"
      ],
      "metadata": {
        "id": "yQqLjySevvJd"
      },
      "execution_count": 19,
      "outputs": []
    },
    {
      "cell_type": "code",
      "source": [
        "def Evaluate(model, english_matrix, telugu_matrix, epoch, batch_size,s=0.1):\n",
        "    correct_count = 0\n",
        "    bat = (int)(len(english_matrix) / batch_size)\n",
        "    for batch_idx in range(1,bat+1):\n",
        "        inp_data = english_matrix[batch_size * (batch_idx-1) : batch_size * (batch_idx)].to(device)\n",
        "        id = inp_data\n",
        "        bs = batch_size\n",
        "        target = telugu_matrix[bs * (batch_idx-1) : bs * (batch_idx)].to(device)\n",
        "        tgt = target\n",
        "        output = model.forward(id.T, tgt.T, 0)\n",
        "        s1=s\n",
        "        output = nn.Softmax(dim=2)(output)\n",
        "        #s1=s1*bs\n",
        "        output = torch.argmax(output, dim=2)\n",
        "        ot = output\n",
        "        output = ot.T\n",
        "\n",
        "        for i in range(1,bs+1):\n",
        "            if(torch.equal(output[i-1][1:],target[i-1][1:])):\n",
        "                k = correct_count\n",
        "                correct_count = k+1\n",
        "    l5 = len(english_matrix)\n",
        "    accuracy = correct_count * 100 / l5\n",
        "    return accuracy\n",
        "        "
      ],
      "metadata": {
        "id": "dT6DDocDv7wj"
      },
      "execution_count": 20,
      "outputs": []
    },
    {
      "cell_type": "code",
      "source": [
        "def to_words(model, english_matrix, telugu_matrix, batch_size):\n",
        "  bs=batch_size\n",
        "  count=0\n",
        "  for batch_idx in range((int)(len(english_matrix) / bs)):\n",
        "        inp_data = english_matrix[bs * batch_idx : bs * (batch_idx+1)].to(device)\n",
        "        inp_data1=inp_data\n",
        "        target = telugu_matrix[batch_size * batch_idx : batch_size * (batch_idx+1)].to(device)\n",
        "        output = model.forward(inp_data.T, target.T, 0)\n",
        "        count=count+bs\n",
        "        output = nn.Softmax(dim=2)(output)\n",
        "        output = torch.argmax(output, dim=2)\n",
        "        gt1=[]\n",
        "        output = output.T\n",
        "        count=count/(batch_idx+1)\n",
        "        for i in range(len(inp_data)):\n",
        "          inp_word = inp_data[i]\n",
        "          word = \"\"\n",
        "          for j in range(len(inp_word)):\n",
        "            eng_char_array_size=27\n",
        "            if(inp_word[j]>0 and inp_word[j]<eng_char_array_size):\n",
        "              word += english_char_list[inp_word[j]-1]\n",
        "          #temp1 = [word]\n",
        "          #if(data_type == \"test\"):\n",
        "          inp.append(word)\n",
        "        for i in range(len(target)):\n",
        "          word1 = \"\"\n",
        "          word2 = \"\"\n",
        "          target_word = target[i]\n",
        "          output_word = output[i]\n",
        "          gt1.append(output_word)\n",
        "          for j in range(len(target_word)):\n",
        "            if(target_word[j]>0 and target_word[j]<63):\n",
        "              word1 += telugu_char_list[target_word[j] - 1]\n",
        "          count1=count\n",
        "          for j in range(len(output_word)):\n",
        "            if(output_word[j]>0 and output_word[j]<63):\n",
        "              word2 = word2 + telugu_char_list[output_word[j] - 1]\n",
        "          temp = [word1, word2]\n",
        "          \n",
        "          gt.append(temp[0])\n",
        "          pred.append(temp[1])\n",
        "        \n",
        "  df_test = pd.DataFrame({\"Input\": inp, \"Ground Truth\" : gt, \"Model output\":pred})\n",
        "  df_test.to_csv(\"prediction_Attention.csv\", index=False)\n",
        "            "
      ],
      "metadata": {
        "id": "9OOWluIMm0Yx"
      },
      "execution_count": 21,
      "outputs": []
    },
    {
      "cell_type": "code",
      "source": [
        "def neural_network(cell_type, bidirectional, num_layers, batch_size, embedding_size, hidden_size, dropout,num_epochs=5,learning_rate=0.001):\n",
        "  x=len(english_char_list)\n",
        "  y=len(telugu_char_list)\n",
        "  input_size_encoder = x + 2   \n",
        "  input_size_decoder = y + 2  \n",
        "  output_size        = y + 2  \n",
        "  s=0.2\n",
        "  encoder_net = Encoder(input_size_encoder, embedding_size, hidden_size, num_layers, dropout, cell_type,bidirectional).to(device)\n",
        "  s=s+1\n",
        "  decoder_net = Decoder(input_size_decoder,embedding_size,hidden_size,output_size,num_layers,dropout, cell_type, bidirectional).to(device)\n",
        "  pad_idx = 63\n",
        "  model = Seq2Seq(encoder_net, decoder_net, cell_type, bidirectional, num_layers).to(device)\n",
        "  optimizer = optim.Adam(model.parameters(), lr=learning_rate)\n",
        "\n",
        "  \n",
        "  criterion = nn.CrossEntropyLoss(ignore_index=pad_idx)\n",
        "\n",
        "  # train_loss = []\n",
        "  # train_accuracy = []\n",
        "  # val_accuracy = []\n",
        "  for epoch in range(1,num_epochs+1):\n",
        "      ep = epoch-1\n",
        "      print(\"epoch = \",ep)\n",
        "\n",
        "      model.train()\n",
        "      step = 0\n",
        "      total_loss = 0\n",
        "      bat = (int)(len(english_matrix) / batch_size)\n",
        "      for batch_idx in range(1,bat+1):\n",
        "          \n",
        "          bi = batch_idx\n",
        "          inp_data = english_matrix[batch_size * (bi-1) : batch_size * (bi)].to(device)\n",
        "          target = telugu_matrix[batch_size * (bi-1) : batch_size * (bi)].to(device)\n",
        "\n",
        "          target = target.T\n",
        "          output = model(inp_data.T, target)\n",
        "          step1 = step\n",
        "          output = output[1:].reshape(-1, output.shape[2])\n",
        "          s=0\n",
        "          target = target[1:].reshape(-1)\n",
        "          optimizer.zero_grad()\n",
        "          loss = criterion(output, target)\n",
        "          l1 = loss\n",
        "          total_loss = total_loss + loss\n",
        "          loss.backward()\n",
        "\n",
        "          torch.nn.utils.clip_grad_norm_(model.parameters(), max_norm=1)\n",
        "          optimizer.step()\n",
        "          s=s+1\n",
        "          step = step + 1\n",
        "  #     print(\"total loss = \",total_loss / (len(english_matrix) * len(marathi_matrix[0])))\n",
        "      tl = total_loss/step\n",
        "      print(\"total loss = \",tl)\n",
        "     \n",
        "  #return train_loss,train_accuracy,val_accuracy\n",
        "  test_accuracy = Evaluate(model, english_matrix_test, telugu_matrix_test, num_epochs, batch_size)\n",
        "  print(\"Test accuracy = \",test_accuracy)\n",
        "  to_words(model, english_matrix_test, telugu_matrix_test, batch_size)"
      ],
      "metadata": {
        "id": "t2RY4SZ7v_1G"
      },
      "execution_count": 22,
      "outputs": []
    },
    {
      "cell_type": "code",
      "source": [
        "#best hyperparameters\n",
        "cell_type = \"GRU\"\n",
        "bidirectional = True\n",
        "num_layers = 1\n",
        "batch_size = 128\n",
        "embedding_size = 128\n",
        "hidden_size = 512\n",
        "dropout = 0.4\n",
        "num_epochs = 15\n",
        "learning_rate = 0.001\n",
        "neural_network(cell_type, bidirectional, num_layers, batch_size, embedding_size, hidden_size, dropout, num_epochs, learning_rate)"
      ],
      "metadata": {
        "id": "YX5N9FStwGPu",
        "colab": {
          "base_uri": "https://localhost:8080/"
        },
        "outputId": "1b912aa6-31f2-4678-fc31-95bf77740749"
      },
      "execution_count": 23,
      "outputs": [
        {
          "output_type": "stream",
          "name": "stderr",
          "text": [
            "/usr/local/lib/python3.10/dist-packages/torch/nn/modules/rnn.py:71: UserWarning: dropout option adds dropout after all but last recurrent layer, so non-zero dropout expects num_layers greater than 1, but got dropout=0.4 and num_layers=1\n",
            "  warnings.warn(\"dropout option adds dropout after all but last \"\n"
          ]
        },
        {
          "output_type": "stream",
          "name": "stdout",
          "text": [
            "epoch =  0\n",
            "total loss =  tensor(0.6032, device='cuda:0', grad_fn=<DivBackward0>)\n",
            "epoch =  1\n",
            "total loss =  tensor(0.1832, device='cuda:0', grad_fn=<DivBackward0>)\n",
            "epoch =  2\n",
            "total loss =  tensor(0.1425, device='cuda:0', grad_fn=<DivBackward0>)\n",
            "epoch =  3\n",
            "total loss =  tensor(0.1176, device='cuda:0', grad_fn=<DivBackward0>)\n",
            "epoch =  4\n",
            "total loss =  tensor(0.1065, device='cuda:0', grad_fn=<DivBackward0>)\n",
            "epoch =  5\n",
            "total loss =  tensor(0.0971, device='cuda:0', grad_fn=<DivBackward0>)\n",
            "epoch =  6\n",
            "total loss =  tensor(0.0837, device='cuda:0', grad_fn=<DivBackward0>)\n",
            "epoch =  7\n",
            "total loss =  tensor(0.0770, device='cuda:0', grad_fn=<DivBackward0>)\n",
            "epoch =  8\n",
            "total loss =  tensor(0.0713, device='cuda:0', grad_fn=<DivBackward0>)\n",
            "epoch =  9\n",
            "total loss =  tensor(0.0662, device='cuda:0', grad_fn=<DivBackward0>)\n",
            "epoch =  10\n",
            "total loss =  tensor(0.0600, device='cuda:0', grad_fn=<DivBackward0>)\n",
            "epoch =  11\n",
            "total loss =  tensor(0.0588, device='cuda:0', grad_fn=<DivBackward0>)\n",
            "epoch =  12\n",
            "total loss =  tensor(0.0524, device='cuda:0', grad_fn=<DivBackward0>)\n",
            "epoch =  13\n",
            "total loss =  tensor(0.0501, device='cuda:0', grad_fn=<DivBackward0>)\n",
            "epoch =  14\n",
            "total loss =  tensor(0.0500, device='cuda:0', grad_fn=<DivBackward0>)\n",
            "Test accuracy =  52.24609375\n"
          ]
        }
      ]
    },
    {
      "cell_type": "code",
      "source": [
        "df_test = pd.read_csv(\"prediction_Attention.csv\")\n",
        "df_test = df_test.sample(frac=1)\n",
        "df_test.head(20)"
      ],
      "metadata": {
        "colab": {
          "base_uri": "https://localhost:8080/",
          "height": 676
        },
        "id": "qIT8Pn5unJG6",
        "outputId": "981a7cf2-c63e-4379-c8d7-23871545f247"
      },
      "execution_count": 25,
      "outputs": [
        {
          "output_type": "execute_result",
          "data": {
            "text/plain": [
              "                  Input  Ground Truth  Model output\n",
              "223               poosi          పూసి          పూసి\n",
              "221             ghatane          ఘటనే          ఘటనే\n",
              "3000       saagutondani    సాగుతోందని    సాగుతోందని\n",
              "1201                wek          వేక్          వెక్\n",
              "1821              meeda           మేడ           మీద\n",
              "1187          palisetti     పలిశెట్టి     పలిసెట్టి\n",
              "3306        kshinathaku      క్షీణతకు      క్షిణతకు\n",
              "2658      sandarbhamuga    సందర్భముగా    సందర్భముగా\n",
              "1930            sasaram          ససరం          ససరం\n",
              "3307        bollaapalli   బొల్లాపల్లి   బొల్లాపల్లి\n",
              "1396      spandinchaadu   స్పందించాడు   స్పందించాడు\n",
              "1039           puyallup     పూయల్లుప్      పూయాలూప్\n",
              "581        cheeyadamloo       చేయడంలో       చేయడంలో\n",
              "2872          sagutunna     సాగుతున్న    సాగుతున్నా\n",
              "2665           maanusha         మానుష         మానుష\n",
              "3085           nischita       నిశ్చిత       నిశ్చిత\n",
              "1476  paryavasaanaalanu  పర్యవసానాలను  పర్యవసానాలను\n",
              "1684              cantu         కాంటు          కంటూ\n",
              "3116             walnut       వాల్నట్      వాల్నూట్\n",
              "1725         sirshikaku     శీర్షికకు    శిర్షికాకు"
            ],
            "text/html": [
              "\n",
              "  <div id=\"df-e2513aba-506f-4463-ba02-4377acf4f12a\">\n",
              "    <div class=\"colab-df-container\">\n",
              "      <div>\n",
              "<style scoped>\n",
              "    .dataframe tbody tr th:only-of-type {\n",
              "        vertical-align: middle;\n",
              "    }\n",
              "\n",
              "    .dataframe tbody tr th {\n",
              "        vertical-align: top;\n",
              "    }\n",
              "\n",
              "    .dataframe thead th {\n",
              "        text-align: right;\n",
              "    }\n",
              "</style>\n",
              "<table border=\"1\" class=\"dataframe\">\n",
              "  <thead>\n",
              "    <tr style=\"text-align: right;\">\n",
              "      <th></th>\n",
              "      <th>Input</th>\n",
              "      <th>Ground Truth</th>\n",
              "      <th>Model output</th>\n",
              "    </tr>\n",
              "  </thead>\n",
              "  <tbody>\n",
              "    <tr>\n",
              "      <th>223</th>\n",
              "      <td>poosi</td>\n",
              "      <td>పూసి</td>\n",
              "      <td>పూసి</td>\n",
              "    </tr>\n",
              "    <tr>\n",
              "      <th>221</th>\n",
              "      <td>ghatane</td>\n",
              "      <td>ఘటనే</td>\n",
              "      <td>ఘటనే</td>\n",
              "    </tr>\n",
              "    <tr>\n",
              "      <th>3000</th>\n",
              "      <td>saagutondani</td>\n",
              "      <td>సాగుతోందని</td>\n",
              "      <td>సాగుతోందని</td>\n",
              "    </tr>\n",
              "    <tr>\n",
              "      <th>1201</th>\n",
              "      <td>wek</td>\n",
              "      <td>వేక్</td>\n",
              "      <td>వెక్</td>\n",
              "    </tr>\n",
              "    <tr>\n",
              "      <th>1821</th>\n",
              "      <td>meeda</td>\n",
              "      <td>మేడ</td>\n",
              "      <td>మీద</td>\n",
              "    </tr>\n",
              "    <tr>\n",
              "      <th>1187</th>\n",
              "      <td>palisetti</td>\n",
              "      <td>పలిశెట్టి</td>\n",
              "      <td>పలిసెట్టి</td>\n",
              "    </tr>\n",
              "    <tr>\n",
              "      <th>3306</th>\n",
              "      <td>kshinathaku</td>\n",
              "      <td>క్షీణతకు</td>\n",
              "      <td>క్షిణతకు</td>\n",
              "    </tr>\n",
              "    <tr>\n",
              "      <th>2658</th>\n",
              "      <td>sandarbhamuga</td>\n",
              "      <td>సందర్భముగా</td>\n",
              "      <td>సందర్భముగా</td>\n",
              "    </tr>\n",
              "    <tr>\n",
              "      <th>1930</th>\n",
              "      <td>sasaram</td>\n",
              "      <td>ససరం</td>\n",
              "      <td>ససరం</td>\n",
              "    </tr>\n",
              "    <tr>\n",
              "      <th>3307</th>\n",
              "      <td>bollaapalli</td>\n",
              "      <td>బొల్లాపల్లి</td>\n",
              "      <td>బొల్లాపల్లి</td>\n",
              "    </tr>\n",
              "    <tr>\n",
              "      <th>1396</th>\n",
              "      <td>spandinchaadu</td>\n",
              "      <td>స్పందించాడు</td>\n",
              "      <td>స్పందించాడు</td>\n",
              "    </tr>\n",
              "    <tr>\n",
              "      <th>1039</th>\n",
              "      <td>puyallup</td>\n",
              "      <td>పూయల్లుప్</td>\n",
              "      <td>పూయాలూప్</td>\n",
              "    </tr>\n",
              "    <tr>\n",
              "      <th>581</th>\n",
              "      <td>cheeyadamloo</td>\n",
              "      <td>చేయడంలో</td>\n",
              "      <td>చేయడంలో</td>\n",
              "    </tr>\n",
              "    <tr>\n",
              "      <th>2872</th>\n",
              "      <td>sagutunna</td>\n",
              "      <td>సాగుతున్న</td>\n",
              "      <td>సాగుతున్నా</td>\n",
              "    </tr>\n",
              "    <tr>\n",
              "      <th>2665</th>\n",
              "      <td>maanusha</td>\n",
              "      <td>మానుష</td>\n",
              "      <td>మానుష</td>\n",
              "    </tr>\n",
              "    <tr>\n",
              "      <th>3085</th>\n",
              "      <td>nischita</td>\n",
              "      <td>నిశ్చిత</td>\n",
              "      <td>నిశ్చిత</td>\n",
              "    </tr>\n",
              "    <tr>\n",
              "      <th>1476</th>\n",
              "      <td>paryavasaanaalanu</td>\n",
              "      <td>పర్యవసానాలను</td>\n",
              "      <td>పర్యవసానాలను</td>\n",
              "    </tr>\n",
              "    <tr>\n",
              "      <th>1684</th>\n",
              "      <td>cantu</td>\n",
              "      <td>కాంటు</td>\n",
              "      <td>కంటూ</td>\n",
              "    </tr>\n",
              "    <tr>\n",
              "      <th>3116</th>\n",
              "      <td>walnut</td>\n",
              "      <td>వాల్నట్</td>\n",
              "      <td>వాల్నూట్</td>\n",
              "    </tr>\n",
              "    <tr>\n",
              "      <th>1725</th>\n",
              "      <td>sirshikaku</td>\n",
              "      <td>శీర్షికకు</td>\n",
              "      <td>శిర్షికాకు</td>\n",
              "    </tr>\n",
              "  </tbody>\n",
              "</table>\n",
              "</div>\n",
              "      <button class=\"colab-df-convert\" onclick=\"convertToInteractive('df-e2513aba-506f-4463-ba02-4377acf4f12a')\"\n",
              "              title=\"Convert this dataframe to an interactive table.\"\n",
              "              style=\"display:none;\">\n",
              "        \n",
              "  <svg xmlns=\"http://www.w3.org/2000/svg\" height=\"24px\"viewBox=\"0 0 24 24\"\n",
              "       width=\"24px\">\n",
              "    <path d=\"M0 0h24v24H0V0z\" fill=\"none\"/>\n",
              "    <path d=\"M18.56 5.44l.94 2.06.94-2.06 2.06-.94-2.06-.94-.94-2.06-.94 2.06-2.06.94zm-11 1L8.5 8.5l.94-2.06 2.06-.94-2.06-.94L8.5 2.5l-.94 2.06-2.06.94zm10 10l.94 2.06.94-2.06 2.06-.94-2.06-.94-.94-2.06-.94 2.06-2.06.94z\"/><path d=\"M17.41 7.96l-1.37-1.37c-.4-.4-.92-.59-1.43-.59-.52 0-1.04.2-1.43.59L10.3 9.45l-7.72 7.72c-.78.78-.78 2.05 0 2.83L4 21.41c.39.39.9.59 1.41.59.51 0 1.02-.2 1.41-.59l7.78-7.78 2.81-2.81c.8-.78.8-2.07 0-2.86zM5.41 20L4 18.59l7.72-7.72 1.47 1.35L5.41 20z\"/>\n",
              "  </svg>\n",
              "      </button>\n",
              "      \n",
              "  <style>\n",
              "    .colab-df-container {\n",
              "      display:flex;\n",
              "      flex-wrap:wrap;\n",
              "      gap: 12px;\n",
              "    }\n",
              "\n",
              "    .colab-df-convert {\n",
              "      background-color: #E8F0FE;\n",
              "      border: none;\n",
              "      border-radius: 50%;\n",
              "      cursor: pointer;\n",
              "      display: none;\n",
              "      fill: #1967D2;\n",
              "      height: 32px;\n",
              "      padding: 0 0 0 0;\n",
              "      width: 32px;\n",
              "    }\n",
              "\n",
              "    .colab-df-convert:hover {\n",
              "      background-color: #E2EBFA;\n",
              "      box-shadow: 0px 1px 2px rgba(60, 64, 67, 0.3), 0px 1px 3px 1px rgba(60, 64, 67, 0.15);\n",
              "      fill: #174EA6;\n",
              "    }\n",
              "\n",
              "    [theme=dark] .colab-df-convert {\n",
              "      background-color: #3B4455;\n",
              "      fill: #D2E3FC;\n",
              "    }\n",
              "\n",
              "    [theme=dark] .colab-df-convert:hover {\n",
              "      background-color: #434B5C;\n",
              "      box-shadow: 0px 1px 3px 1px rgba(0, 0, 0, 0.15);\n",
              "      filter: drop-shadow(0px 1px 2px rgba(0, 0, 0, 0.3));\n",
              "      fill: #FFFFFF;\n",
              "    }\n",
              "  </style>\n",
              "\n",
              "      <script>\n",
              "        const buttonEl =\n",
              "          document.querySelector('#df-e2513aba-506f-4463-ba02-4377acf4f12a button.colab-df-convert');\n",
              "        buttonEl.style.display =\n",
              "          google.colab.kernel.accessAllowed ? 'block' : 'none';\n",
              "\n",
              "        async function convertToInteractive(key) {\n",
              "          const element = document.querySelector('#df-e2513aba-506f-4463-ba02-4377acf4f12a');\n",
              "          const dataTable =\n",
              "            await google.colab.kernel.invokeFunction('convertToInteractive',\n",
              "                                                     [key], {});\n",
              "          if (!dataTable) return;\n",
              "\n",
              "          const docLinkHtml = 'Like what you see? Visit the ' +\n",
              "            '<a target=\"_blank\" href=https://colab.research.google.com/notebooks/data_table.ipynb>data table notebook</a>'\n",
              "            + ' to learn more about interactive tables.';\n",
              "          element.innerHTML = '';\n",
              "          dataTable['output_type'] = 'display_data';\n",
              "          await google.colab.output.renderOutput(dataTable, element);\n",
              "          const docLink = document.createElement('div');\n",
              "          docLink.innerHTML = docLinkHtml;\n",
              "          element.appendChild(docLink);\n",
              "        }\n",
              "      </script>\n",
              "    </div>\n",
              "  </div>\n",
              "  "
            ]
          },
          "metadata": {},
          "execution_count": 25
        }
      ]
    },
    {
      "cell_type": "code",
      "source": [
        "# sweep_config = {\n",
        "#     \"method\": 'bayes', #grid, random\n",
        "#     \"metric\": {\n",
        "#       \"name\": 'validation_accuracy',\n",
        "#       \"goal\": 'maximize', \n",
        "#     },\n",
        "#     \"parameters\": {\n",
        "#         \"epochs\": {\n",
        "#             \"values\": [15]\n",
        "#         },\n",
        "#         \"dropout\": {\n",
        "#             \"values\": [0.5]\n",
        "#         },\n",
        "#         \"hidden_size\": {\n",
        "#             \"values\": [256]\n",
        "#         },\n",
        "#         \"embedding_size\": {\n",
        "#             \"values\": [128]\n",
        "#         },\n",
        "#         \"learning_rate\":{\n",
        "#             \"values\":[0.001]\n",
        "#         },\n",
        "#         \"batch_size\":{\n",
        "#             \"values\":[128]\n",
        "#         },\n",
        "#         \"num_layers\":{\n",
        "#             \"values\":[2]\n",
        "#        },\n",
        "#         \"bidirectional\":{\n",
        "#             \"values\":[False]\n",
        "#         },\n",
        "#         \"cell_type\":{\n",
        "#             \"values\":['LSTM']\n",
        "#         }\n",
        "#     }\n",
        "# }"
      ],
      "metadata": {
        "id": "3Odk8dyQwNOw"
      },
      "execution_count": null,
      "outputs": []
    },
    {
      "cell_type": "code",
      "source": [
        "# sweep_config = {\n",
        "#     \"method\": 'bayes', #grid, random\n",
        "#     \"metric\": {\n",
        "#       \"name\": 'validation_accuracy',\n",
        "#       \"goal\": 'maximize', \n",
        "#     },\n",
        "#     \"parameters\": {\n",
        "#         \"epochs\": {\n",
        "#             \"values\": [15]\n",
        "#         },\n",
        "#         \"dropout\": {\n",
        "#             \"values\": [0.3,0.4,0.5]\n",
        "#         },\n",
        "#         \"hidden_size\": {\n",
        "#             \"values\": [128,256,512]\n",
        "#         },\n",
        "#         \"embedding_size\": {\n",
        "#             \"values\": [128,256,512]\n",
        "#         },\n",
        "#         \"learning_rate\":{\n",
        "#             \"values\":[0.001]\n",
        "#         },\n",
        "#         \"batch_size\":{\n",
        "#             \"values\":[32,64,128,256]\n",
        "#         },\n",
        "#         \"num_layers\":{\n",
        "#             \"values\":[1,3,2]\n",
        "#        },\n",
        "#         \"bidirectional\":{\n",
        "#             \"values\":[False,True]\n",
        "#         },\n",
        "#         \"cell_type\":{\n",
        "#             \"values\":['LSTM','RNN','GRU']\n",
        "#         }\n",
        "#     }\n",
        "# }"
      ],
      "metadata": {
        "id": "ZQkBldixwP3W"
      },
      "execution_count": null,
      "outputs": []
    },
    {
      "cell_type": "code",
      "source": [
        "# def train():\n",
        "   \n",
        "#     wandb.init()\n",
        "\n",
        "#     #wandb.init()\n",
        "\n",
        "#     # Config is a variable that holds and saves hyperparameters and inputs\n",
        "#     config = wandb.config\n",
        "\n",
        "#     name=\"ct_\"+str(wandb.config.cell_type)+\"_bd_\"+str(wandb.config.bidirectional)+\"_nl_\"+str(wandb.config.num_layers)+\"_bs_\"+str(wandb.config.batch_size)+\"_es_\"+str(wandb.config.embedding_size)+\"_hs_\"+str(wandb.config.hidden_size)+\"_dp_\"+str(wandb.config.dropout)\n",
        "#     print(name)\n",
        "#     wandb.run.name = name\n",
        "\n",
        "\n",
        "\n",
        "    \n",
        "  \n",
        "\n",
        " \n",
        "#     #  Model training here\n",
        "#     #sweep_network = FFNNClass(hidden_sizes=config.hidden_sizes ,algo=config.algo,initialization = config.initialization,activation=config.activation,loss=config.loss)\n",
        "#     #neural_network(cell_type, bidirectional, num_layers,batch_size,embedding_size,hidden_size,dropout,epochs,learning_rate)\n",
        "#     neural_network(cell_type=config.cell_type, bidirectional=config.bidirectional, num_layers=config.num_layers,batch_size = config.batch_size,embedding_size=config.embedding_size,hidden_size=config.hidden_size,dropout=config.dropout,num_epochs=config.epochs,learning_rate=config.learning_rate)\n",
        "\n",
        "  \n",
        "\n",
        "#     # for zi in range(len(train_acc)):\n",
        "#     #     print(zi)        \n",
        "#     #     wandb.log({'train_accuracy':train_acc[zi]})\n",
        "#     #     wandb.log({'val_accuracy':val_acc[zi]})\n",
        "#     #     wandb.log({'train_loss':train_loss[zi]}) \n",
        "#     #     #wandb.log({'val_loss':val_loss[zi]})\n",
        "#     #     wandb.log({'num_epochs':zi+1})\n",
        "\n",
        "#     wandb.finish()"
      ],
      "metadata": {
        "id": "Ug-i0EW0wVd7"
      },
      "execution_count": null,
      "outputs": []
    },
    {
      "cell_type": "code",
      "source": [
        "# sweep_id = wandb.sweep(sweep_config, entity=\"cs22m043\", project=\"A3_with_Attn\")\n",
        "# wandb.agent(sweep_id, train, count=5)"
      ],
      "metadata": {
        "colab": {
          "base_uri": "https://localhost:8080/",
          "height": 1000,
          "referenced_widgets": [
            "530897d61cb041b4b465ae6f7f0dc6ee",
            "f93f7a28cdbf47f08ae6a63c3c3e964d",
            "91775e9704bd46099d3ef4549a6c9c4e",
            "b700d05547c64a0396e40902cc5c4e92",
            "e2459164dac143d9a2a737727e8fdb81",
            "8b53741a757645329bfb1ebb410875a6",
            "ade8f99c242743678a06af97a49d2f81",
            "6c967ba8116a4be99516ee35fcab8302",
            "2e3eed8aa1704f76b0a0aed2b0e69a8f",
            "9b70e2ef0aa2404c8519bd11e51c7823",
            "65aa21bac0e849a8ae5e3a664eb7980f",
            "6a1f8b6b42aa4d9ea72653f55a93b515",
            "ef1322a718ca447794a4b184c2c6447e",
            "8d46ffda3e5b41aeaa0e487a098a602f",
            "2aff8a09bf6c4c51ace9c5f7fb6e275a",
            "9740a389ac6149e0bfe0f10393f746b7",
            "5dd3ccb3c65e49e88b1ce791668e619e",
            "01fae811ea694e6e9716e692125c67d9",
            "0515b1bd21fb4c68bde60609a76bbb63",
            "2ebbdb9f8d1a4fce95cad667566ddcc8",
            "4ec2881b9e22491ba9f6f6371b959105",
            "71b848cf335d48b2aa60fb0796a397f5",
            "1fb343cad1e142369ee8e8c664ad7332",
            "7c3ef55f26104e0f91af260fdc0d772d"
          ]
        },
        "id": "YL_AFK9Swb59",
        "outputId": "b4d18f37-e6da-4089-fd1e-41da48c4b9ca"
      },
      "execution_count": null,
      "outputs": [
        {
          "output_type": "stream",
          "name": "stdout",
          "text": [
            "Create sweep with ID: csfwnf6s\n",
            "Sweep URL: https://wandb.ai/cs22m043/A3_with_Attn/sweeps/csfwnf6s\n"
          ]
        },
        {
          "output_type": "stream",
          "name": "stderr",
          "text": [
            "\u001b[34m\u001b[1mwandb\u001b[0m: Agent Starting Run: 7y9xmso0 with config:\n",
            "\u001b[34m\u001b[1mwandb\u001b[0m: \tbatch_size: 128\n",
            "\u001b[34m\u001b[1mwandb\u001b[0m: \tbidirectional: True\n",
            "\u001b[34m\u001b[1mwandb\u001b[0m: \tcell_type: GRU\n",
            "\u001b[34m\u001b[1mwandb\u001b[0m: \tdropout: 0.2\n",
            "\u001b[34m\u001b[1mwandb\u001b[0m: \tembedding_size: 64\n",
            "\u001b[34m\u001b[1mwandb\u001b[0m: \tepochs: 15\n",
            "\u001b[34m\u001b[1mwandb\u001b[0m: \thidden_size: 256\n",
            "\u001b[34m\u001b[1mwandb\u001b[0m: \tlearning_rate: 0.001\n",
            "\u001b[34m\u001b[1mwandb\u001b[0m: \tnum_layers: 2\n",
            "\u001b[34m\u001b[1mwandb\u001b[0m: Currently logged in as: \u001b[33mcs22m043\u001b[0m. Use \u001b[1m`wandb login --relogin`\u001b[0m to force relogin\n"
          ]
        },
        {
          "output_type": "display_data",
          "data": {
            "text/plain": [
              "<IPython.core.display.HTML object>"
            ],
            "text/html": [
              "Tracking run with wandb version 0.15.3"
            ]
          },
          "metadata": {}
        },
        {
          "output_type": "display_data",
          "data": {
            "text/plain": [
              "<IPython.core.display.HTML object>"
            ],
            "text/html": [
              "Run data is saved locally in <code>/content/wandb/run-20230519_130724-7y9xmso0</code>"
            ]
          },
          "metadata": {}
        },
        {
          "output_type": "display_data",
          "data": {
            "text/plain": [
              "<IPython.core.display.HTML object>"
            ],
            "text/html": [
              "Syncing run <strong><a href='https://wandb.ai/cs22m043/A3_with_Attn/runs/7y9xmso0' target=\"_blank\">neat-sweep-1</a></strong> to <a href='https://wandb.ai/cs22m043/A3_with_Attn' target=\"_blank\">Weights & Biases</a> (<a href='https://wandb.me/run' target=\"_blank\">docs</a>)<br/>Sweep page: <a href='https://wandb.ai/cs22m043/A3_with_Attn/sweeps/csfwnf6s' target=\"_blank\">https://wandb.ai/cs22m043/A3_with_Attn/sweeps/csfwnf6s</a>"
            ]
          },
          "metadata": {}
        },
        {
          "output_type": "display_data",
          "data": {
            "text/plain": [
              "<IPython.core.display.HTML object>"
            ],
            "text/html": [
              " View project at <a href='https://wandb.ai/cs22m043/A3_with_Attn' target=\"_blank\">https://wandb.ai/cs22m043/A3_with_Attn</a>"
            ]
          },
          "metadata": {}
        },
        {
          "output_type": "display_data",
          "data": {
            "text/plain": [
              "<IPython.core.display.HTML object>"
            ],
            "text/html": [
              " View sweep at <a href='https://wandb.ai/cs22m043/A3_with_Attn/sweeps/csfwnf6s' target=\"_blank\">https://wandb.ai/cs22m043/A3_with_Attn/sweeps/csfwnf6s</a>"
            ]
          },
          "metadata": {}
        },
        {
          "output_type": "display_data",
          "data": {
            "text/plain": [
              "<IPython.core.display.HTML object>"
            ],
            "text/html": [
              " View run at <a href='https://wandb.ai/cs22m043/A3_with_Attn/runs/7y9xmso0' target=\"_blank\">https://wandb.ai/cs22m043/A3_with_Attn/runs/7y9xmso0</a>"
            ]
          },
          "metadata": {}
        },
        {
          "output_type": "stream",
          "name": "stdout",
          "text": [
            "ct_GRU_bd_True_nl_2_bs_128_es_64_hs_256_dp_0.2\n",
            "epoch =  0\n",
            "total loss =  tensor(1.0974, device='cuda:0', grad_fn=<DivBackward0>)\n",
            "Training Accuracy =  9.927734375\n",
            "Validation accuracy =  13.4033203125\n",
            "epoch =  1\n",
            "total loss =  tensor(0.3251, device='cuda:0', grad_fn=<DivBackward0>)\n",
            "Training Accuracy =  42.083984375\n",
            "Validation accuracy =  39.4287109375\n",
            "epoch =  2\n",
            "total loss =  tensor(0.1971, device='cuda:0', grad_fn=<DivBackward0>)\n",
            "Training Accuracy =  52.083984375\n",
            "Validation accuracy =  45.3857421875\n",
            "epoch =  3\n",
            "total loss =  tensor(0.1566, device='cuda:0', grad_fn=<DivBackward0>)\n",
            "Training Accuracy =  56.599609375\n",
            "Validation accuracy =  47.0947265625\n",
            "epoch =  4\n",
            "total loss =  tensor(0.1357, device='cuda:0', grad_fn=<DivBackward0>)\n",
            "Training Accuracy =  61.681640625\n",
            "Validation accuracy =  50.6103515625\n",
            "epoch =  5\n",
            "total loss =  tensor(0.1221, device='cuda:0', grad_fn=<DivBackward0>)\n",
            "Training Accuracy =  65.443359375\n",
            "Validation accuracy =  52.1240234375\n",
            "epoch =  6\n",
            "total loss =  tensor(0.1085, device='cuda:0', grad_fn=<DivBackward0>)\n",
            "Training Accuracy =  67.701171875\n",
            "Validation accuracy =  52.5390625\n",
            "epoch =  7\n",
            "total loss =  tensor(0.0997, device='cuda:0', grad_fn=<DivBackward0>)\n",
            "Training Accuracy =  69.701171875\n",
            "Validation accuracy =  53.3203125\n",
            "epoch =  8\n",
            "total loss =  tensor(0.0877, device='cuda:0', grad_fn=<DivBackward0>)\n",
            "Training Accuracy =  71.625\n",
            "Validation accuracy =  53.7109375\n",
            "epoch =  9\n",
            "total loss =  tensor(0.0827, device='cuda:0', grad_fn=<DivBackward0>)\n",
            "Training Accuracy =  73.234375\n",
            "Validation accuracy =  53.466796875\n",
            "epoch =  10\n",
            "total loss =  tensor(0.0771, device='cuda:0', grad_fn=<DivBackward0>)\n",
            "Training Accuracy =  72.490234375\n",
            "Validation accuracy =  53.662109375\n",
            "epoch =  11\n",
            "total loss =  tensor(0.0736, device='cuda:0', grad_fn=<DivBackward0>)\n",
            "Training Accuracy =  75.21484375\n",
            "Validation accuracy =  54.736328125\n",
            "epoch =  12\n",
            "total loss =  tensor(0.0672, device='cuda:0', grad_fn=<DivBackward0>)\n",
            "Training Accuracy =  76.376953125\n",
            "Validation accuracy =  55.6640625\n",
            "epoch =  13\n",
            "total loss =  tensor(0.0626, device='cuda:0', grad_fn=<DivBackward0>)\n",
            "Training Accuracy =  77.98828125\n",
            "Validation accuracy =  54.58984375\n",
            "epoch =  14\n",
            "total loss =  tensor(0.0581, device='cuda:0', grad_fn=<DivBackward0>)\n",
            "Training Accuracy =  77.822265625\n",
            "Validation accuracy =  54.5654296875\n"
          ]
        },
        {
          "output_type": "display_data",
          "data": {
            "text/plain": [
              "<IPython.core.display.HTML object>"
            ],
            "text/html": [
              "Waiting for W&B process to finish... <strong style=\"color:green\">(success).</strong>"
            ]
          },
          "metadata": {}
        },
        {
          "output_type": "display_data",
          "data": {
            "text/plain": [
              "VBox(children=(Label(value='0.001 MB of 0.012 MB uploaded (0.000 MB deduped)\\r'), FloatProgress(value=0.095754…"
            ],
            "application/vnd.jupyter.widget-view+json": {
              "version_major": 2,
              "version_minor": 0,
              "model_id": "530897d61cb041b4b465ae6f7f0dc6ee"
            }
          },
          "metadata": {}
        },
        {
          "output_type": "display_data",
          "data": {
            "text/plain": [
              "<IPython.core.display.HTML object>"
            ],
            "text/html": [
              "<style>\n",
              "    table.wandb td:nth-child(1) { padding: 0 10px; text-align: left ; width: auto;} td:nth-child(2) {text-align: left ; width: 100%}\n",
              "    .wandb-row { display: flex; flex-direction: row; flex-wrap: wrap; justify-content: flex-start; width: 100% }\n",
              "    .wandb-col { display: flex; flex-direction: column; flex-basis: 100%; flex: 1; padding: 10px; }\n",
              "    </style>\n",
              "<div class=\"wandb-row\"><div class=\"wandb-col\"><h3>Run history:</h3><br/><table class=\"wandb\"><tr><td>epoch</td><td>▁▁▂▃▃▃▄▅▅▅▆▇▇▇█</td></tr><tr><td>train_accuracy</td><td>▁▄▅▆▆▇▇▇▇█▇████</td></tr><tr><td>training_loss</td><td>█▃▂▂▂▁▁▁▁▁▁▁▁▁▁</td></tr><tr><td>validation_accuracy</td><td>▁▅▆▇▇▇▇████████</td></tr></table><br/></div><div class=\"wandb-col\"><h3>Run summary:</h3><br/><table class=\"wandb\"><tr><td>epoch</td><td>14</td></tr><tr><td>train_accuracy</td><td>77.82227</td></tr><tr><td>training_loss</td><td>0.05813</td></tr><tr><td>validation_accuracy</td><td>54.56543</td></tr></table><br/></div></div>"
            ]
          },
          "metadata": {}
        },
        {
          "output_type": "display_data",
          "data": {
            "text/plain": [
              "<IPython.core.display.HTML object>"
            ],
            "text/html": [
              " View run <strong style=\"color:#cdcd00\">neat-sweep-1</strong> at: <a href='https://wandb.ai/cs22m043/A3_with_Attn/runs/7y9xmso0' target=\"_blank\">https://wandb.ai/cs22m043/A3_with_Attn/runs/7y9xmso0</a><br/>Synced 5 W&B file(s), 0 media file(s), 0 artifact file(s) and 0 other file(s)"
            ]
          },
          "metadata": {}
        },
        {
          "output_type": "display_data",
          "data": {
            "text/plain": [
              "<IPython.core.display.HTML object>"
            ],
            "text/html": [
              "Find logs at: <code>./wandb/run-20230519_130724-7y9xmso0/logs</code>"
            ]
          },
          "metadata": {}
        },
        {
          "output_type": "stream",
          "name": "stderr",
          "text": [
            "\u001b[34m\u001b[1mwandb\u001b[0m: Agent Starting Run: vbj20kqz with config:\n",
            "\u001b[34m\u001b[1mwandb\u001b[0m: \tbatch_size: 32\n",
            "\u001b[34m\u001b[1mwandb\u001b[0m: \tbidirectional: False\n",
            "\u001b[34m\u001b[1mwandb\u001b[0m: \tcell_type: RNN\n",
            "\u001b[34m\u001b[1mwandb\u001b[0m: \tdropout: 0.4\n",
            "\u001b[34m\u001b[1mwandb\u001b[0m: \tembedding_size: 16\n",
            "\u001b[34m\u001b[1mwandb\u001b[0m: \tepochs: 15\n",
            "\u001b[34m\u001b[1mwandb\u001b[0m: \thidden_size: 16\n",
            "\u001b[34m\u001b[1mwandb\u001b[0m: \tlearning_rate: 0.001\n",
            "\u001b[34m\u001b[1mwandb\u001b[0m: \tnum_layers: 3\n"
          ]
        },
        {
          "output_type": "display_data",
          "data": {
            "text/plain": [
              "<IPython.core.display.HTML object>"
            ],
            "text/html": [
              "Tracking run with wandb version 0.15.3"
            ]
          },
          "metadata": {}
        },
        {
          "output_type": "display_data",
          "data": {
            "text/plain": [
              "<IPython.core.display.HTML object>"
            ],
            "text/html": [
              "Run data is saved locally in <code>/content/wandb/run-20230519_131701-vbj20kqz</code>"
            ]
          },
          "metadata": {}
        },
        {
          "output_type": "display_data",
          "data": {
            "text/plain": [
              "<IPython.core.display.HTML object>"
            ],
            "text/html": [
              "Syncing run <strong><a href='https://wandb.ai/cs22m043/A3_with_Attn/runs/vbj20kqz' target=\"_blank\">treasured-sweep-2</a></strong> to <a href='https://wandb.ai/cs22m043/A3_with_Attn' target=\"_blank\">Weights & Biases</a> (<a href='https://wandb.me/run' target=\"_blank\">docs</a>)<br/>Sweep page: <a href='https://wandb.ai/cs22m043/A3_with_Attn/sweeps/csfwnf6s' target=\"_blank\">https://wandb.ai/cs22m043/A3_with_Attn/sweeps/csfwnf6s</a>"
            ]
          },
          "metadata": {}
        },
        {
          "output_type": "display_data",
          "data": {
            "text/plain": [
              "<IPython.core.display.HTML object>"
            ],
            "text/html": [
              " View project at <a href='https://wandb.ai/cs22m043/A3_with_Attn' target=\"_blank\">https://wandb.ai/cs22m043/A3_with_Attn</a>"
            ]
          },
          "metadata": {}
        },
        {
          "output_type": "display_data",
          "data": {
            "text/plain": [
              "<IPython.core.display.HTML object>"
            ],
            "text/html": [
              " View sweep at <a href='https://wandb.ai/cs22m043/A3_with_Attn/sweeps/csfwnf6s' target=\"_blank\">https://wandb.ai/cs22m043/A3_with_Attn/sweeps/csfwnf6s</a>"
            ]
          },
          "metadata": {}
        },
        {
          "output_type": "display_data",
          "data": {
            "text/plain": [
              "<IPython.core.display.HTML object>"
            ],
            "text/html": [
              " View run at <a href='https://wandb.ai/cs22m043/A3_with_Attn/runs/vbj20kqz' target=\"_blank\">https://wandb.ai/cs22m043/A3_with_Attn/runs/vbj20kqz</a>"
            ]
          },
          "metadata": {}
        },
        {
          "output_type": "stream",
          "name": "stdout",
          "text": [
            "ct_RNN_bd_False_nl_3_bs_32_es_16_hs_16_dp_0.4\n",
            "epoch =  0\n",
            "total loss =  tensor(1.8715, device='cuda:0', grad_fn=<DivBackward0>)\n",
            "Training Accuracy =  0.0\n",
            "Validation accuracy =  0.0\n",
            "epoch =  1\n",
            "total loss =  tensor(1.6362, device='cuda:0', grad_fn=<DivBackward0>)\n",
            "Training Accuracy =  0.0\n",
            "Validation accuracy =  0.0\n",
            "epoch =  2\n",
            "total loss =  tensor(1.5510, device='cuda:0', grad_fn=<DivBackward0>)\n",
            "Training Accuracy =  0.0\n",
            "Validation accuracy =  0.0\n",
            "epoch =  3\n",
            "total loss =  tensor(1.5332, device='cuda:0', grad_fn=<DivBackward0>)\n",
            "Training Accuracy =  0.0\n",
            "Validation accuracy =  0.0\n",
            "epoch =  4\n",
            "total loss =  tensor(1.5276, device='cuda:0', grad_fn=<DivBackward0>)\n",
            "Training Accuracy =  0.0\n",
            "Validation accuracy =  0.0\n",
            "epoch =  5\n",
            "total loss =  tensor(1.5172, device='cuda:0', grad_fn=<DivBackward0>)\n",
            "Training Accuracy =  0.0\n",
            "Validation accuracy =  0.0\n",
            "epoch =  6\n",
            "total loss =  tensor(1.5104, device='cuda:0', grad_fn=<DivBackward0>)\n",
            "Training Accuracy =  0.0\n",
            "Validation accuracy =  0.0\n",
            "epoch =  7\n",
            "total loss =  tensor(1.5034, device='cuda:0', grad_fn=<DivBackward0>)\n",
            "Training Accuracy =  0.0\n",
            "Validation accuracy =  0.0\n",
            "epoch =  8\n",
            "total loss =  tensor(1.4918, device='cuda:0', grad_fn=<DivBackward0>)\n",
            "Training Accuracy =  0.0\n",
            "Validation accuracy =  0.0\n",
            "epoch =  9\n",
            "total loss =  tensor(1.4799, device='cuda:0', grad_fn=<DivBackward0>)\n",
            "Training Accuracy =  0.0\n",
            "Validation accuracy =  0.0\n",
            "epoch =  10\n",
            "total loss =  tensor(1.4661, device='cuda:0', grad_fn=<DivBackward0>)\n",
            "Training Accuracy =  0.0\n",
            "Validation accuracy =  0.0\n",
            "epoch =  11\n",
            "total loss =  tensor(1.4524, device='cuda:0', grad_fn=<DivBackward0>)\n",
            "Training Accuracy =  0.0\n",
            "Validation accuracy =  0.0\n",
            "epoch =  12\n",
            "total loss =  tensor(1.4383, device='cuda:0', grad_fn=<DivBackward0>)\n",
            "Training Accuracy =  0.0\n",
            "Validation accuracy =  0.0\n",
            "epoch =  13\n",
            "total loss =  tensor(1.4199, device='cuda:0', grad_fn=<DivBackward0>)\n",
            "Training Accuracy =  0.0\n",
            "Validation accuracy =  0.0\n",
            "epoch =  14\n",
            "total loss =  tensor(1.4097, device='cuda:0', grad_fn=<DivBackward0>)\n",
            "Training Accuracy =  0.0\n",
            "Validation accuracy =  0.0\n"
          ]
        },
        {
          "output_type": "display_data",
          "data": {
            "text/plain": [
              "<IPython.core.display.HTML object>"
            ],
            "text/html": [
              "Waiting for W&B process to finish... <strong style=\"color:green\">(success).</strong>"
            ]
          },
          "metadata": {}
        },
        {
          "output_type": "display_data",
          "data": {
            "text/plain": [
              "VBox(children=(Label(value='0.001 MB of 0.011 MB uploaded (0.000 MB deduped)\\r'), FloatProgress(value=0.097948…"
            ],
            "application/vnd.jupyter.widget-view+json": {
              "version_major": 2,
              "version_minor": 0,
              "model_id": "2e3eed8aa1704f76b0a0aed2b0e69a8f"
            }
          },
          "metadata": {}
        },
        {
          "output_type": "display_data",
          "data": {
            "text/plain": [
              "<IPython.core.display.HTML object>"
            ],
            "text/html": [
              "<style>\n",
              "    table.wandb td:nth-child(1) { padding: 0 10px; text-align: left ; width: auto;} td:nth-child(2) {text-align: left ; width: 100%}\n",
              "    .wandb-row { display: flex; flex-direction: row; flex-wrap: wrap; justify-content: flex-start; width: 100% }\n",
              "    .wandb-col { display: flex; flex-direction: column; flex-basis: 100%; flex: 1; padding: 10px; }\n",
              "    </style>\n",
              "<div class=\"wandb-row\"><div class=\"wandb-col\"><h3>Run history:</h3><br/><table class=\"wandb\"><tr><td>epoch</td><td>▁▁▂▃▃▃▄▅▅▅▆▇▇▇█</td></tr><tr><td>train_accuracy</td><td>▁▁▁▁▁▁▁▁▁▁▁▁▁▁▁</td></tr><tr><td>training_loss</td><td>█▄▃▃▃▃▃▂▂▂▂▂▁▁▁</td></tr><tr><td>validation_accuracy</td><td>▁▁▁▁▁▁▁▁▁▁▁▁▁▁▁</td></tr></table><br/></div><div class=\"wandb-col\"><h3>Run summary:</h3><br/><table class=\"wandb\"><tr><td>epoch</td><td>14</td></tr><tr><td>train_accuracy</td><td>0.0</td></tr><tr><td>training_loss</td><td>1.40966</td></tr><tr><td>validation_accuracy</td><td>0.0</td></tr></table><br/></div></div>"
            ]
          },
          "metadata": {}
        },
        {
          "output_type": "display_data",
          "data": {
            "text/plain": [
              "<IPython.core.display.HTML object>"
            ],
            "text/html": [
              " View run <strong style=\"color:#cdcd00\">treasured-sweep-2</strong> at: <a href='https://wandb.ai/cs22m043/A3_with_Attn/runs/vbj20kqz' target=\"_blank\">https://wandb.ai/cs22m043/A3_with_Attn/runs/vbj20kqz</a><br/>Synced 5 W&B file(s), 0 media file(s), 0 artifact file(s) and 0 other file(s)"
            ]
          },
          "metadata": {}
        },
        {
          "output_type": "display_data",
          "data": {
            "text/plain": [
              "<IPython.core.display.HTML object>"
            ],
            "text/html": [
              "Find logs at: <code>./wandb/run-20230519_131701-vbj20kqz/logs</code>"
            ]
          },
          "metadata": {}
        },
        {
          "output_type": "stream",
          "name": "stderr",
          "text": [
            "\u001b[34m\u001b[1mwandb\u001b[0m: Agent Starting Run: inptzyju with config:\n",
            "\u001b[34m\u001b[1mwandb\u001b[0m: \tbatch_size: 128\n",
            "\u001b[34m\u001b[1mwandb\u001b[0m: \tbidirectional: True\n",
            "\u001b[34m\u001b[1mwandb\u001b[0m: \tcell_type: LSTM\n",
            "\u001b[34m\u001b[1mwandb\u001b[0m: \tdropout: 0.2\n",
            "\u001b[34m\u001b[1mwandb\u001b[0m: \tembedding_size: 256\n",
            "\u001b[34m\u001b[1mwandb\u001b[0m: \tepochs: 15\n",
            "\u001b[34m\u001b[1mwandb\u001b[0m: \thidden_size: 16\n",
            "\u001b[34m\u001b[1mwandb\u001b[0m: \tlearning_rate: 0.001\n",
            "\u001b[34m\u001b[1mwandb\u001b[0m: \tnum_layers: 3\n"
          ]
        },
        {
          "output_type": "display_data",
          "data": {
            "text/plain": [
              "<IPython.core.display.HTML object>"
            ],
            "text/html": [
              "Tracking run with wandb version 0.15.3"
            ]
          },
          "metadata": {}
        },
        {
          "output_type": "display_data",
          "data": {
            "text/plain": [
              "<IPython.core.display.HTML object>"
            ],
            "text/html": [
              "Run data is saved locally in <code>/content/wandb/run-20230519_134213-inptzyju</code>"
            ]
          },
          "metadata": {}
        },
        {
          "output_type": "display_data",
          "data": {
            "text/plain": [
              "<IPython.core.display.HTML object>"
            ],
            "text/html": [
              "Syncing run <strong><a href='https://wandb.ai/cs22m043/A3_with_Attn/runs/inptzyju' target=\"_blank\">daily-sweep-3</a></strong> to <a href='https://wandb.ai/cs22m043/A3_with_Attn' target=\"_blank\">Weights & Biases</a> (<a href='https://wandb.me/run' target=\"_blank\">docs</a>)<br/>Sweep page: <a href='https://wandb.ai/cs22m043/A3_with_Attn/sweeps/csfwnf6s' target=\"_blank\">https://wandb.ai/cs22m043/A3_with_Attn/sweeps/csfwnf6s</a>"
            ]
          },
          "metadata": {}
        },
        {
          "output_type": "display_data",
          "data": {
            "text/plain": [
              "<IPython.core.display.HTML object>"
            ],
            "text/html": [
              " View project at <a href='https://wandb.ai/cs22m043/A3_with_Attn' target=\"_blank\">https://wandb.ai/cs22m043/A3_with_Attn</a>"
            ]
          },
          "metadata": {}
        },
        {
          "output_type": "display_data",
          "data": {
            "text/plain": [
              "<IPython.core.display.HTML object>"
            ],
            "text/html": [
              " View sweep at <a href='https://wandb.ai/cs22m043/A3_with_Attn/sweeps/csfwnf6s' target=\"_blank\">https://wandb.ai/cs22m043/A3_with_Attn/sweeps/csfwnf6s</a>"
            ]
          },
          "metadata": {}
        },
        {
          "output_type": "display_data",
          "data": {
            "text/plain": [
              "<IPython.core.display.HTML object>"
            ],
            "text/html": [
              " View run at <a href='https://wandb.ai/cs22m043/A3_with_Attn/runs/inptzyju' target=\"_blank\">https://wandb.ai/cs22m043/A3_with_Attn/runs/inptzyju</a>"
            ]
          },
          "metadata": {}
        },
        {
          "output_type": "stream",
          "name": "stdout",
          "text": [
            "ct_LSTM_bd_True_nl_3_bs_128_es_256_hs_16_dp_0.2\n",
            "epoch =  0\n",
            "total loss =  tensor(2.1636, device='cuda:0', grad_fn=<DivBackward0>)\n",
            "Training Accuracy =  0.0\n",
            "Validation accuracy =  0.0\n",
            "epoch =  1\n",
            "total loss =  tensor(1.6568, device='cuda:0', grad_fn=<DivBackward0>)\n",
            "Training Accuracy =  0.0\n",
            "Validation accuracy =  0.0\n",
            "epoch =  2\n",
            "total loss =  tensor(1.6034, device='cuda:0', grad_fn=<DivBackward0>)\n",
            "Training Accuracy =  0.0\n",
            "Validation accuracy =  0.0\n",
            "epoch =  3\n",
            "total loss =  tensor(1.5604, device='cuda:0', grad_fn=<DivBackward0>)\n",
            "Training Accuracy =  0.0\n",
            "Validation accuracy =  0.0\n",
            "epoch =  4\n",
            "total loss =  tensor(1.4904, device='cuda:0', grad_fn=<DivBackward0>)\n",
            "Training Accuracy =  0.0\n",
            "Validation accuracy =  0.0\n",
            "epoch =  5\n",
            "total loss =  tensor(1.4507, device='cuda:0', grad_fn=<DivBackward0>)\n",
            "Training Accuracy =  0.001953125\n",
            "Validation accuracy =  0.0\n",
            "epoch =  6\n",
            "total loss =  tensor(1.4229, device='cuda:0', grad_fn=<DivBackward0>)\n",
            "Training Accuracy =  0.00390625\n",
            "Validation accuracy =  0.0\n",
            "epoch =  7\n",
            "total loss =  tensor(1.4059, device='cuda:0', grad_fn=<DivBackward0>)\n",
            "Training Accuracy =  0.001953125\n",
            "Validation accuracy =  0.0\n",
            "epoch =  8\n",
            "total loss =  tensor(1.3917, device='cuda:0', grad_fn=<DivBackward0>)\n",
            "Training Accuracy =  0.001953125\n",
            "Validation accuracy =  0.0244140625\n",
            "epoch =  9\n",
            "total loss =  tensor(1.3736, device='cuda:0', grad_fn=<DivBackward0>)\n",
            "Training Accuracy =  0.001953125\n",
            "Validation accuracy =  0.0\n",
            "epoch =  10\n",
            "total loss =  tensor(1.3621, device='cuda:0', grad_fn=<DivBackward0>)\n",
            "Training Accuracy =  0.001953125\n",
            "Validation accuracy =  0.0\n",
            "epoch =  11\n",
            "total loss =  tensor(1.3451, device='cuda:0', grad_fn=<DivBackward0>)\n",
            "Training Accuracy =  0.0\n",
            "Validation accuracy =  0.0244140625\n",
            "epoch =  12\n",
            "total loss =  tensor(1.3249, device='cuda:0', grad_fn=<DivBackward0>)\n",
            "Training Accuracy =  0.0\n",
            "Validation accuracy =  0.0\n",
            "epoch =  13\n",
            "total loss =  tensor(1.3080, device='cuda:0', grad_fn=<DivBackward0>)\n",
            "Training Accuracy =  0.001953125\n",
            "Validation accuracy =  0.0\n",
            "epoch =  14\n",
            "total loss =  tensor(1.2917, device='cuda:0', grad_fn=<DivBackward0>)\n",
            "Training Accuracy =  0.00390625\n",
            "Validation accuracy =  0.0\n"
          ]
        },
        {
          "output_type": "display_data",
          "data": {
            "text/plain": [
              "<IPython.core.display.HTML object>"
            ],
            "text/html": [
              "Waiting for W&B process to finish... <strong style=\"color:green\">(success).</strong>"
            ]
          },
          "metadata": {}
        },
        {
          "output_type": "display_data",
          "data": {
            "text/plain": [
              "<IPython.core.display.HTML object>"
            ],
            "text/html": [
              "<style>\n",
              "    table.wandb td:nth-child(1) { padding: 0 10px; text-align: left ; width: auto;} td:nth-child(2) {text-align: left ; width: 100%}\n",
              "    .wandb-row { display: flex; flex-direction: row; flex-wrap: wrap; justify-content: flex-start; width: 100% }\n",
              "    .wandb-col { display: flex; flex-direction: column; flex-basis: 100%; flex: 1; padding: 10px; }\n",
              "    </style>\n",
              "<div class=\"wandb-row\"><div class=\"wandb-col\"><h3>Run history:</h3><br/><table class=\"wandb\"><tr><td>epoch</td><td>▁▁▂▃▃▃▄▅▅▅▆▇▇▇█</td></tr><tr><td>train_accuracy</td><td>▁▁▁▁▁▅█▅▅▅▅▁▁▅█</td></tr><tr><td>training_loss</td><td>█▄▄▃▃▂▂▂▂▂▂▁▁▁▁</td></tr><tr><td>validation_accuracy</td><td>▁▁▁▁▁▁▁▁█▁▁█▁▁▁</td></tr></table><br/></div><div class=\"wandb-col\"><h3>Run summary:</h3><br/><table class=\"wandb\"><tr><td>epoch</td><td>14</td></tr><tr><td>train_accuracy</td><td>0.00391</td></tr><tr><td>training_loss</td><td>1.29174</td></tr><tr><td>validation_accuracy</td><td>0.0</td></tr></table><br/></div></div>"
            ]
          },
          "metadata": {}
        },
        {
          "output_type": "display_data",
          "data": {
            "text/plain": [
              "<IPython.core.display.HTML object>"
            ],
            "text/html": [
              " View run <strong style=\"color:#cdcd00\">daily-sweep-3</strong> at: <a href='https://wandb.ai/cs22m043/A3_with_Attn/runs/inptzyju' target=\"_blank\">https://wandb.ai/cs22m043/A3_with_Attn/runs/inptzyju</a><br/>Synced 5 W&B file(s), 0 media file(s), 0 artifact file(s) and 0 other file(s)"
            ]
          },
          "metadata": {}
        },
        {
          "output_type": "display_data",
          "data": {
            "text/plain": [
              "<IPython.core.display.HTML object>"
            ],
            "text/html": [
              "Find logs at: <code>./wandb/run-20230519_134213-inptzyju/logs</code>"
            ]
          },
          "metadata": {}
        },
        {
          "output_type": "stream",
          "name": "stderr",
          "text": [
            "\u001b[34m\u001b[1mwandb\u001b[0m: Agent Starting Run: gmzqq1hj with config:\n",
            "\u001b[34m\u001b[1mwandb\u001b[0m: \tbatch_size: 128\n",
            "\u001b[34m\u001b[1mwandb\u001b[0m: \tbidirectional: True\n",
            "\u001b[34m\u001b[1mwandb\u001b[0m: \tcell_type: LSTM\n",
            "\u001b[34m\u001b[1mwandb\u001b[0m: \tdropout: 0.5\n",
            "\u001b[34m\u001b[1mwandb\u001b[0m: \tembedding_size: 256\n",
            "\u001b[34m\u001b[1mwandb\u001b[0m: \tepochs: 15\n",
            "\u001b[34m\u001b[1mwandb\u001b[0m: \thidden_size: 32\n",
            "\u001b[34m\u001b[1mwandb\u001b[0m: \tlearning_rate: 0.001\n",
            "\u001b[34m\u001b[1mwandb\u001b[0m: \tnum_layers: 2\n"
          ]
        },
        {
          "output_type": "display_data",
          "data": {
            "text/plain": [
              "<IPython.core.display.HTML object>"
            ],
            "text/html": [
              "Tracking run with wandb version 0.15.3"
            ]
          },
          "metadata": {}
        },
        {
          "output_type": "display_data",
          "data": {
            "text/plain": [
              "<IPython.core.display.HTML object>"
            ],
            "text/html": [
              "Run data is saved locally in <code>/content/wandb/run-20230519_134951-gmzqq1hj</code>"
            ]
          },
          "metadata": {}
        },
        {
          "output_type": "display_data",
          "data": {
            "text/plain": [
              "<IPython.core.display.HTML object>"
            ],
            "text/html": [
              "Syncing run <strong><a href='https://wandb.ai/cs22m043/A3_with_Attn/runs/gmzqq1hj' target=\"_blank\">chocolate-sweep-4</a></strong> to <a href='https://wandb.ai/cs22m043/A3_with_Attn' target=\"_blank\">Weights & Biases</a> (<a href='https://wandb.me/run' target=\"_blank\">docs</a>)<br/>Sweep page: <a href='https://wandb.ai/cs22m043/A3_with_Attn/sweeps/csfwnf6s' target=\"_blank\">https://wandb.ai/cs22m043/A3_with_Attn/sweeps/csfwnf6s</a>"
            ]
          },
          "metadata": {}
        },
        {
          "output_type": "display_data",
          "data": {
            "text/plain": [
              "<IPython.core.display.HTML object>"
            ],
            "text/html": [
              " View project at <a href='https://wandb.ai/cs22m043/A3_with_Attn' target=\"_blank\">https://wandb.ai/cs22m043/A3_with_Attn</a>"
            ]
          },
          "metadata": {}
        },
        {
          "output_type": "display_data",
          "data": {
            "text/plain": [
              "<IPython.core.display.HTML object>"
            ],
            "text/html": [
              " View sweep at <a href='https://wandb.ai/cs22m043/A3_with_Attn/sweeps/csfwnf6s' target=\"_blank\">https://wandb.ai/cs22m043/A3_with_Attn/sweeps/csfwnf6s</a>"
            ]
          },
          "metadata": {}
        },
        {
          "output_type": "display_data",
          "data": {
            "text/plain": [
              "<IPython.core.display.HTML object>"
            ],
            "text/html": [
              " View run at <a href='https://wandb.ai/cs22m043/A3_with_Attn/runs/gmzqq1hj' target=\"_blank\">https://wandb.ai/cs22m043/A3_with_Attn/runs/gmzqq1hj</a>"
            ]
          },
          "metadata": {}
        },
        {
          "output_type": "stream",
          "name": "stdout",
          "text": [
            "ct_LSTM_bd_True_nl_2_bs_128_es_256_hs_32_dp_0.5\n",
            "epoch =  0\n",
            "total loss =  tensor(1.8353, device='cuda:0', grad_fn=<DivBackward0>)\n",
            "Training Accuracy =  0.0\n",
            "Validation accuracy =  0.0\n",
            "epoch =  1\n",
            "total loss =  tensor(1.3782, device='cuda:0', grad_fn=<DivBackward0>)\n",
            "Training Accuracy =  0.0\n",
            "Validation accuracy =  0.0\n",
            "epoch =  2\n",
            "total loss =  tensor(1.2611, device='cuda:0', grad_fn=<DivBackward0>)\n",
            "Training Accuracy =  0.017578125\n",
            "Validation accuracy =  0.1220703125\n",
            "epoch =  3\n",
            "total loss =  tensor(1.1356, device='cuda:0', grad_fn=<DivBackward0>)\n",
            "Training Accuracy =  0.06640625\n",
            "Validation accuracy =  0.439453125\n",
            "epoch =  4\n",
            "total loss =  tensor(1.0613, device='cuda:0', grad_fn=<DivBackward0>)\n",
            "Training Accuracy =  0.166015625\n",
            "Validation accuracy =  0.634765625\n",
            "epoch =  5\n",
            "total loss =  tensor(1.0014, device='cuda:0', grad_fn=<DivBackward0>)\n",
            "Training Accuracy =  0.3671875\n",
            "Validation accuracy =  1.0009765625\n",
            "epoch =  6\n",
            "total loss =  tensor(0.9523, device='cuda:0', grad_fn=<DivBackward0>)\n",
            "Training Accuracy =  0.61328125\n",
            "Validation accuracy =  1.8310546875\n",
            "epoch =  7\n",
            "total loss =  tensor(0.9047, device='cuda:0', grad_fn=<DivBackward0>)\n",
            "Training Accuracy =  0.9375\n",
            "Validation accuracy =  2.587890625\n",
            "epoch =  8\n",
            "total loss =  tensor(0.8596, device='cuda:0', grad_fn=<DivBackward0>)\n",
            "Training Accuracy =  1.365234375\n",
            "Validation accuracy =  3.1494140625\n",
            "epoch =  9\n",
            "total loss =  tensor(0.8192, device='cuda:0', grad_fn=<DivBackward0>)\n",
            "Training Accuracy =  1.732421875\n",
            "Validation accuracy =  4.7119140625\n",
            "epoch =  10\n",
            "total loss =  tensor(0.7859, device='cuda:0', grad_fn=<DivBackward0>)\n",
            "Training Accuracy =  2.193359375\n",
            "Validation accuracy =  5.3955078125\n",
            "epoch =  11\n",
            "total loss =  tensor(0.7537, device='cuda:0', grad_fn=<DivBackward0>)\n",
            "Training Accuracy =  2.6875\n",
            "Validation accuracy =  6.3232421875\n",
            "epoch =  12\n",
            "total loss =  tensor(0.7228, device='cuda:0', grad_fn=<DivBackward0>)\n",
            "Training Accuracy =  3.37890625\n",
            "Validation accuracy =  7.1533203125\n",
            "epoch =  13\n",
            "total loss =  tensor(0.6894, device='cuda:0', grad_fn=<DivBackward0>)\n",
            "Training Accuracy =  3.8125\n",
            "Validation accuracy =  8.0810546875\n",
            "epoch =  14\n",
            "total loss =  tensor(0.6673, device='cuda:0', grad_fn=<DivBackward0>)\n",
            "Training Accuracy =  4.419921875\n",
            "Validation accuracy =  9.3017578125\n"
          ]
        },
        {
          "output_type": "display_data",
          "data": {
            "text/plain": [
              "<IPython.core.display.HTML object>"
            ],
            "text/html": [
              "Waiting for W&B process to finish... <strong style=\"color:green\">(success).</strong>"
            ]
          },
          "metadata": {}
        },
        {
          "output_type": "display_data",
          "data": {
            "text/plain": [
              "VBox(children=(Label(value='0.001 MB of 0.012 MB uploaded (0.000 MB deduped)\\r'), FloatProgress(value=0.096137…"
            ],
            "application/vnd.jupyter.widget-view+json": {
              "version_major": 2,
              "version_minor": 0,
              "model_id": "5dd3ccb3c65e49e88b1ce791668e619e"
            }
          },
          "metadata": {}
        },
        {
          "output_type": "display_data",
          "data": {
            "text/plain": [
              "<IPython.core.display.HTML object>"
            ],
            "text/html": [
              "<style>\n",
              "    table.wandb td:nth-child(1) { padding: 0 10px; text-align: left ; width: auto;} td:nth-child(2) {text-align: left ; width: 100%}\n",
              "    .wandb-row { display: flex; flex-direction: row; flex-wrap: wrap; justify-content: flex-start; width: 100% }\n",
              "    .wandb-col { display: flex; flex-direction: column; flex-basis: 100%; flex: 1; padding: 10px; }\n",
              "    </style>\n",
              "<div class=\"wandb-row\"><div class=\"wandb-col\"><h3>Run history:</h3><br/><table class=\"wandb\"><tr><td>epoch</td><td>▁▁▂▃▃▃▄▅▅▅▆▇▇▇█</td></tr><tr><td>train_accuracy</td><td>▁▁▁▁▁▂▂▂▃▄▄▅▆▇█</td></tr><tr><td>training_loss</td><td>█▅▅▄▃▃▃▂▂▂▂▂▁▁▁</td></tr><tr><td>validation_accuracy</td><td>▁▁▁▁▁▂▂▃▃▅▅▆▆▇█</td></tr></table><br/></div><div class=\"wandb-col\"><h3>Run summary:</h3><br/><table class=\"wandb\"><tr><td>epoch</td><td>14</td></tr><tr><td>train_accuracy</td><td>4.41992</td></tr><tr><td>training_loss</td><td>0.66731</td></tr><tr><td>validation_accuracy</td><td>9.30176</td></tr></table><br/></div></div>"
            ]
          },
          "metadata": {}
        },
        {
          "output_type": "display_data",
          "data": {
            "text/plain": [
              "<IPython.core.display.HTML object>"
            ],
            "text/html": [
              " View run <strong style=\"color:#cdcd00\">chocolate-sweep-4</strong> at: <a href='https://wandb.ai/cs22m043/A3_with_Attn/runs/gmzqq1hj' target=\"_blank\">https://wandb.ai/cs22m043/A3_with_Attn/runs/gmzqq1hj</a><br/>Synced 5 W&B file(s), 0 media file(s), 0 artifact file(s) and 0 other file(s)"
            ]
          },
          "metadata": {}
        },
        {
          "output_type": "display_data",
          "data": {
            "text/plain": [
              "<IPython.core.display.HTML object>"
            ],
            "text/html": [
              "Find logs at: <code>./wandb/run-20230519_134951-gmzqq1hj/logs</code>"
            ]
          },
          "metadata": {}
        },
        {
          "output_type": "stream",
          "name": "stderr",
          "text": [
            "\u001b[34m\u001b[1mwandb\u001b[0m: Sweep Agent: Waiting for job.\n",
            "\u001b[34m\u001b[1mwandb\u001b[0m: Job received.\n",
            "\u001b[34m\u001b[1mwandb\u001b[0m: Agent Starting Run: 5g8ep7q4 with config:\n",
            "\u001b[34m\u001b[1mwandb\u001b[0m: \tbatch_size: 128\n",
            "\u001b[34m\u001b[1mwandb\u001b[0m: \tbidirectional: True\n",
            "\u001b[34m\u001b[1mwandb\u001b[0m: \tcell_type: GRU\n",
            "\u001b[34m\u001b[1mwandb\u001b[0m: \tdropout: 0.2\n",
            "\u001b[34m\u001b[1mwandb\u001b[0m: \tembedding_size: 32\n",
            "\u001b[34m\u001b[1mwandb\u001b[0m: \tepochs: 15\n",
            "\u001b[34m\u001b[1mwandb\u001b[0m: \thidden_size: 128\n",
            "\u001b[34m\u001b[1mwandb\u001b[0m: \tlearning_rate: 0.001\n",
            "\u001b[34m\u001b[1mwandb\u001b[0m: \tnum_layers: 3\n"
          ]
        },
        {
          "output_type": "display_data",
          "data": {
            "text/plain": [
              "<IPython.core.display.HTML object>"
            ],
            "text/html": [
              "Tracking run with wandb version 0.15.3"
            ]
          },
          "metadata": {}
        },
        {
          "output_type": "display_data",
          "data": {
            "text/plain": [
              "<IPython.core.display.HTML object>"
            ],
            "text/html": [
              "Run data is saved locally in <code>/content/wandb/run-20230519_135707-5g8ep7q4</code>"
            ]
          },
          "metadata": {}
        },
        {
          "output_type": "display_data",
          "data": {
            "text/plain": [
              "<IPython.core.display.HTML object>"
            ],
            "text/html": [
              "Syncing run <strong><a href='https://wandb.ai/cs22m043/A3_with_Attn/runs/5g8ep7q4' target=\"_blank\">clear-sweep-5</a></strong> to <a href='https://wandb.ai/cs22m043/A3_with_Attn' target=\"_blank\">Weights & Biases</a> (<a href='https://wandb.me/run' target=\"_blank\">docs</a>)<br/>Sweep page: <a href='https://wandb.ai/cs22m043/A3_with_Attn/sweeps/csfwnf6s' target=\"_blank\">https://wandb.ai/cs22m043/A3_with_Attn/sweeps/csfwnf6s</a>"
            ]
          },
          "metadata": {}
        },
        {
          "output_type": "display_data",
          "data": {
            "text/plain": [
              "<IPython.core.display.HTML object>"
            ],
            "text/html": [
              " View project at <a href='https://wandb.ai/cs22m043/A3_with_Attn' target=\"_blank\">https://wandb.ai/cs22m043/A3_with_Attn</a>"
            ]
          },
          "metadata": {}
        },
        {
          "output_type": "display_data",
          "data": {
            "text/plain": [
              "<IPython.core.display.HTML object>"
            ],
            "text/html": [
              " View sweep at <a href='https://wandb.ai/cs22m043/A3_with_Attn/sweeps/csfwnf6s' target=\"_blank\">https://wandb.ai/cs22m043/A3_with_Attn/sweeps/csfwnf6s</a>"
            ]
          },
          "metadata": {}
        },
        {
          "output_type": "display_data",
          "data": {
            "text/plain": [
              "<IPython.core.display.HTML object>"
            ],
            "text/html": [
              " View run at <a href='https://wandb.ai/cs22m043/A3_with_Attn/runs/5g8ep7q4' target=\"_blank\">https://wandb.ai/cs22m043/A3_with_Attn/runs/5g8ep7q4</a>"
            ]
          },
          "metadata": {}
        },
        {
          "output_type": "stream",
          "name": "stdout",
          "text": [
            "ct_GRU_bd_True_nl_3_bs_128_es_32_hs_128_dp_0.2\n",
            "epoch =  0\n",
            "total loss =  tensor(1.6151, device='cuda:0', grad_fn=<DivBackward0>)\n",
            "Training Accuracy =  0.001953125\n",
            "Validation accuracy =  0.0244140625\n",
            "epoch =  1\n",
            "total loss =  tensor(1.1180, device='cuda:0', grad_fn=<DivBackward0>)\n",
            "Training Accuracy =  0.458984375\n",
            "Validation accuracy =  1.26953125\n",
            "epoch =  2\n",
            "total loss =  tensor(0.8255, device='cuda:0', grad_fn=<DivBackward0>)\n",
            "Training Accuracy =  3.326171875\n",
            "Validation accuracy =  6.5185546875\n",
            "epoch =  3\n",
            "total loss =  tensor(0.6594, device='cuda:0', grad_fn=<DivBackward0>)\n",
            "Training Accuracy =  6.7109375\n",
            "Validation accuracy =  11.5234375\n",
            "epoch =  4\n",
            "total loss =  tensor(0.5463, device='cuda:0', grad_fn=<DivBackward0>)\n",
            "Training Accuracy =  12.244140625\n",
            "Validation accuracy =  17.138671875\n",
            "epoch =  5\n",
            "total loss =  tensor(0.4616, device='cuda:0', grad_fn=<DivBackward0>)\n",
            "Training Accuracy =  17.12890625\n",
            "Validation accuracy =  21.38671875\n",
            "epoch =  6\n",
            "total loss =  tensor(0.3970, device='cuda:0', grad_fn=<DivBackward0>)\n",
            "Training Accuracy =  22.333984375\n",
            "Validation accuracy =  27.099609375\n",
            "epoch =  7\n",
            "total loss =  tensor(0.3342, device='cuda:0', grad_fn=<DivBackward0>)\n",
            "Training Accuracy =  28.2421875\n",
            "Validation accuracy =  30.7373046875\n",
            "epoch =  8\n",
            "total loss =  tensor(0.2865, device='cuda:0', grad_fn=<DivBackward0>)\n",
            "Training Accuracy =  34.37890625\n",
            "Validation accuracy =  34.27734375\n",
            "epoch =  9\n",
            "total loss =  tensor(0.2426, device='cuda:0', grad_fn=<DivBackward0>)\n",
            "Training Accuracy =  38.955078125\n",
            "Validation accuracy =  36.572265625\n",
            "epoch =  10\n",
            "total loss =  tensor(0.2131, device='cuda:0', grad_fn=<DivBackward0>)\n",
            "Training Accuracy =  43.43359375\n",
            "Validation accuracy =  38.8916015625\n",
            "epoch =  11\n",
            "total loss =  tensor(0.1937, device='cuda:0', grad_fn=<DivBackward0>)\n",
            "Training Accuracy =  47.8671875\n",
            "Validation accuracy =  42.3828125\n",
            "epoch =  12\n",
            "total loss =  tensor(0.1765, device='cuda:0', grad_fn=<DivBackward0>)\n",
            "Training Accuracy =  50.5234375\n",
            "Validation accuracy =  43.603515625\n",
            "epoch =  13\n",
            "total loss =  tensor(0.1617, device='cuda:0', grad_fn=<DivBackward0>)\n",
            "Training Accuracy =  52.478515625\n",
            "Validation accuracy =  44.3115234375\n",
            "epoch =  14\n",
            "total loss =  tensor(0.1539, device='cuda:0', grad_fn=<DivBackward0>)\n",
            "Training Accuracy =  54.666015625\n",
            "Validation accuracy =  46.4111328125\n"
          ]
        },
        {
          "output_type": "display_data",
          "data": {
            "text/plain": [
              "<IPython.core.display.HTML object>"
            ],
            "text/html": [
              "Waiting for W&B process to finish... <strong style=\"color:green\">(success).</strong>"
            ]
          },
          "metadata": {}
        },
        {
          "output_type": "display_data",
          "data": {
            "text/plain": [
              "<IPython.core.display.HTML object>"
            ],
            "text/html": [
              "<style>\n",
              "    table.wandb td:nth-child(1) { padding: 0 10px; text-align: left ; width: auto;} td:nth-child(2) {text-align: left ; width: 100%}\n",
              "    .wandb-row { display: flex; flex-direction: row; flex-wrap: wrap; justify-content: flex-start; width: 100% }\n",
              "    .wandb-col { display: flex; flex-direction: column; flex-basis: 100%; flex: 1; padding: 10px; }\n",
              "    </style>\n",
              "<div class=\"wandb-row\"><div class=\"wandb-col\"><h3>Run history:</h3><br/><table class=\"wandb\"><tr><td>epoch</td><td>▁▁▂▃▃▃▄▅▅▅▆▇▇▇█</td></tr><tr><td>train_accuracy</td><td>▁▁▁▂▃▃▄▅▅▆▇▇▇██</td></tr><tr><td>training_loss</td><td>█▆▄▃▃▂▂▂▂▁▁▁▁▁▁</td></tr><tr><td>validation_accuracy</td><td>▁▁▂▃▄▄▅▆▆▇▇▇███</td></tr></table><br/></div><div class=\"wandb-col\"><h3>Run summary:</h3><br/><table class=\"wandb\"><tr><td>epoch</td><td>14</td></tr><tr><td>train_accuracy</td><td>54.66602</td></tr><tr><td>training_loss</td><td>0.15392</td></tr><tr><td>validation_accuracy</td><td>46.41113</td></tr></table><br/></div></div>"
            ]
          },
          "metadata": {}
        },
        {
          "output_type": "display_data",
          "data": {
            "text/plain": [
              "<IPython.core.display.HTML object>"
            ],
            "text/html": [
              " View run <strong style=\"color:#cdcd00\">clear-sweep-5</strong> at: <a href='https://wandb.ai/cs22m043/A3_with_Attn/runs/5g8ep7q4' target=\"_blank\">https://wandb.ai/cs22m043/A3_with_Attn/runs/5g8ep7q4</a><br/>Synced 5 W&B file(s), 0 media file(s), 0 artifact file(s) and 0 other file(s)"
            ]
          },
          "metadata": {}
        },
        {
          "output_type": "display_data",
          "data": {
            "text/plain": [
              "<IPython.core.display.HTML object>"
            ],
            "text/html": [
              "Find logs at: <code>./wandb/run-20230519_135707-5g8ep7q4/logs</code>"
            ]
          },
          "metadata": {}
        }
      ]
    }
  ]
}